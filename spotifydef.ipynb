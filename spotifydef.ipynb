{
 "cells": [
  {
   "cell_type": "markdown",
   "metadata": {},
   "source": [
    "# Spotify: un análisis exploratorio de sus datos. \n",
    "\n",
    "https://www.kaggle.com/code/anmolarora15/spotify-in-depth-eda\n",
    "https://www.kaggle.com/code/mahmoudsaadmohamed/spoify-prediction\n",
    "https://www.kaggle.com/datasets/joebeachcapital/30000-spotify-songs/code\n",
    "https://www.kaggle.com/code/alexfernandezmoran/tfm-unir-alejandro-fndz-mor-n/notebook\n",
    "https://www.kaggle.com/code/deepikavasudevan/spotify-eda"
   ]
  },
  {
   "cell_type": "markdown",
   "metadata": {},
   "source": [
    "## 1. Introducción."
   ]
  },
  {
   "cell_type": "markdown",
   "metadata": {},
   "source": [
    "Spotify, es una de las plataformas líderes en el negocio del streaming musical, ha revolucionado la manera en que millones de usuarios acceden y consumen música. Su modelo de negocio no solo se basa en proporcionar un extenso catálogo musical, sino también en comprender en profundidad las preferencias individuales de los oyentes. Los datos recopilados, que abarcan desde las elecciones de reproducción hasta la creación de listas de reproducción personalizadas, son esenciales para perfeccionar algoritmos de recomendación y personalización. Este análisis exploratorio intentará analizar una cantidad acotada de datos generados por los usuarios, destacando la importancia de la información recopilada en la optimización continua del servicio y en la creación de una experiencia musical única para cada usuario."
   ]
  },
  {
   "cell_type": "markdown",
   "metadata": {},
   "source": [
    "## 2. Objetivo."
   ]
  },
  {
   "cell_type": "markdown",
   "metadata": {},
   "source": [
    "## 3. Principales hipótesis a contrastar."
   ]
  },
  {
   "cell_type": "markdown",
   "metadata": {},
   "source": []
  },
  {
   "cell_type": "markdown",
   "metadata": {},
   "source": [
    "## 4. Imports y lectura de dataset."
   ]
  },
  {
   "cell_type": "markdown",
   "metadata": {},
   "source": [
    "Para nuestro análisis, usaremos los módulos fundamentales de análisis de datos.\n",
    "\n",
    "Pandas y NumPy para el trabajo tabular y matemático y Matplotlib y Seaborn para la visualización gráfica detallada.\n",
    "\n",
    "Al no venir incluidos en Python, han de importarse de la siguiente forma."
   ]
  },
  {
   "cell_type": "code",
   "execution_count": 2,
   "metadata": {},
   "outputs": [],
   "source": [
    "import pandas as pd\n",
    "import numpy as np\n",
    "import matplotlib.pyplot as plt\n",
    "import seaborn as sns\n",
    "from datetime import datetime\n",
    "import joypy\n",
    "from matplotlib import cm\n",
    "\n"
   ]
  },
  {
   "cell_type": "markdown",
   "metadata": {},
   "source": [
    "Cargamos el dataset y lo instanciamos en la variable 'df_general'"
   ]
  },
  {
   "cell_type": "code",
   "execution_count": 7,
   "metadata": {},
   "outputs": [],
   "source": [
    "df_general = pd.read_csv('spotify_songs.csv')"
   ]
  },
  {
   "cell_type": "markdown",
   "metadata": {},
   "source": [
    "## 5. Tareas previas al análisis."
   ]
  },
  {
   "cell_type": "markdown",
   "metadata": {},
   "source": [
    "###  5.1 Entendiendo los datos, una exploración inicial.\n",
    "     \n",
    "     5.1.1 Tabla explicativas de las variables.\n",
    "     5.1.2 Dataframe shape.\n",
    "     5.1.3 Head and tail.\n",
    "     5.1.4 Tipología de datos.\n",
    "     5.1.5 Descripción básica de los datos.\n"
   ]
  },
  {
   "cell_type": "markdown",
   "metadata": {},
   "source": [
    "### 5.1.1 Tabla explicativa de las variables."
   ]
  },
  {
   "cell_type": "markdown",
   "metadata": {},
   "source": [
    "| Variable              | Clase      | Descripción                                                                        |\n",
    "|-----------------------|------------|------------------------------------------------------------------------------------|\n",
    "| track_id              | Carácter   | Identificación única de la canción.                                                |\n",
    "| track_name            | Carácter   | Nombre de la canción.                                                              |\n",
    "| track_artist          | Carácter   | Artista de la canción.                                                             |\n",
    "| track_popularity      | Doble      | Popularidad de la canción (0-100), siendo 0 el valor menos popular y 100 el más popular.                |\n",
    "| track_album_id        | Carácter   | Identificación única del álbum.                                                   |\n",
    "| track_album_name      | Carácter   | Nombre del álbum de la canción.                                                   |\n",
    "| track_album_release_date | Carácter | Fecha de lanzamiento del álbum.                                                   |\n",
    "| playlist_name         | Carácter   | Nombre de la lista de reproducción.                                               |\n",
    "| playlist_id           | Carácter   | Identificación de la lista de reproducción.                                       |\n",
    "| playlist_genre        | Carácter   | Género de la lista de reproducción.                                              |\n",
    "| playlist_subgenre     | Carácter   | Subgénero de la lista de reproducción.                                           |\n",
    "| danceability          | Doble      | La \"bailabilidad\" describe qué tan adecuada es una canción para bailar. Rango de 0 a 1.        |\n",
    "| energy                | Doble      | La energía es una medida de 0.0 a 1.0 y representa una medida perceptual de intensidad y actividad. |\n",
    "| key                   | Doble      | La tonalidad general estimada de la canción.                                      |\n",
    "| loudness              | Doble      | La sonoridad general de una canción en decibelios (dB).                            |\n",
    "| mode                  | Doble      | Indica la modalidad (mayor o menor) de una canción.                                |\n",
    "| speechiness           | Doble      | Detecta la presencia de palabras habladas en una canción.                           |\n",
    "| acousticness          | Doble      | Una medida de confianza de 0.0 a 1.0 de si la canción es acústica.                 |\n",
    "| instrumentalness      | Doble      | Predice si una canción no contiene vocales.                                        |\n",
    "| liveness              | Doble      | Detecta la presencia de una audiencia en la grabación.                             |\n",
    "| valence               | Doble      | Una medida de 0.0 a 1.0 que describe la positividad musical transmitida por una canción. |\n",
    "| tempo                 | Doble      | El tempo estimado general de una canción en pulsaciones por minuto (BPM).          |\n",
    "| duration_ms           | Doble      | Duración de la canción en milisegundos.                                           |"
   ]
  },
  {
   "cell_type": "markdown",
   "metadata": {},
   "source": [
    "### 5.1.2 Dimensiones del Dataframe e información general."
   ]
  },
  {
   "cell_type": "code",
   "execution_count": 8,
   "metadata": {},
   "outputs": [
    {
     "name": "stdout",
     "output_type": "stream",
     "text": [
      "El dataframe tiene  23 columnas y  32833 registros de filas\n"
     ]
    }
   ],
   "source": [
    "df_general.T.shape\n",
    "\n",
    "print('El dataframe tiene ', df_general.T.shape[0], 'columnas y ', df_general.T.shape[1], 'registros de filas')"
   ]
  },
  {
   "cell_type": "markdown",
   "metadata": {},
   "source": [
    "La cantidad de registros de filas es suficientemente significativa para realizar trabajos de aprendizaje automático posteriormente.\n",
    "\n",
    "Ahora estudiaremos la forma de esos datos viendo el contenido de cada columna:"
   ]
  },
  {
   "cell_type": "code",
   "execution_count": 9,
   "metadata": {},
   "outputs": [
    {
     "name": "stdout",
     "output_type": "stream",
     "text": [
      "<class 'pandas.core.frame.DataFrame'>\n",
      "RangeIndex: 32833 entries, 0 to 32832\n",
      "Data columns (total 23 columns):\n",
      " #   Column                    Non-Null Count  Dtype  \n",
      "---  ------                    --------------  -----  \n",
      " 0   track_id                  32833 non-null  object \n",
      " 1   track_name                32828 non-null  object \n",
      " 2   track_artist              32828 non-null  object \n",
      " 3   track_popularity          32833 non-null  int64  \n",
      " 4   track_album_id            32833 non-null  object \n",
      " 5   track_album_name          32828 non-null  object \n",
      " 6   track_album_release_date  32833 non-null  object \n",
      " 7   playlist_name             32833 non-null  object \n",
      " 8   playlist_id               32833 non-null  object \n",
      " 9   playlist_genre            32833 non-null  object \n",
      " 10  playlist_subgenre         32833 non-null  object \n",
      " 11  danceability              32833 non-null  float64\n",
      " 12  energy                    32833 non-null  float64\n",
      " 13  key                       32833 non-null  int64  \n",
      " 14  loudness                  32833 non-null  float64\n",
      " 15  mode                      32833 non-null  int64  \n",
      " 16  speechiness               32833 non-null  float64\n",
      " 17  acousticness              32833 non-null  float64\n",
      " 18  instrumentalness          32833 non-null  float64\n",
      " 19  liveness                  32833 non-null  float64\n",
      " 20  valence                   32833 non-null  float64\n",
      " 21  tempo                     32833 non-null  float64\n",
      " 22  duration_ms               32833 non-null  int64  \n",
      "dtypes: float64(9), int64(4), object(10)\n",
      "memory usage: 5.8+ MB\n"
     ]
    }
   ],
   "source": [
    "df_general.info()"
   ]
  },
  {
   "cell_type": "code",
   "execution_count": 10,
   "metadata": {},
   "outputs": [
    {
     "data": {
      "text/html": [
       "<div>\n",
       "<style scoped>\n",
       "    .dataframe tbody tr th:only-of-type {\n",
       "        vertical-align: middle;\n",
       "    }\n",
       "\n",
       "    .dataframe tbody tr th {\n",
       "        vertical-align: top;\n",
       "    }\n",
       "\n",
       "    .dataframe thead th {\n",
       "        text-align: right;\n",
       "    }\n",
       "</style>\n",
       "<table border=\"1\" class=\"dataframe\">\n",
       "  <thead>\n",
       "    <tr style=\"text-align: right;\">\n",
       "      <th></th>\n",
       "      <th>track_id</th>\n",
       "      <th>track_name</th>\n",
       "      <th>track_artist</th>\n",
       "      <th>track_popularity</th>\n",
       "      <th>track_album_id</th>\n",
       "      <th>track_album_name</th>\n",
       "      <th>track_album_release_date</th>\n",
       "      <th>playlist_name</th>\n",
       "      <th>playlist_id</th>\n",
       "      <th>playlist_genre</th>\n",
       "      <th>...</th>\n",
       "      <th>key</th>\n",
       "      <th>loudness</th>\n",
       "      <th>mode</th>\n",
       "      <th>speechiness</th>\n",
       "      <th>acousticness</th>\n",
       "      <th>instrumentalness</th>\n",
       "      <th>liveness</th>\n",
       "      <th>valence</th>\n",
       "      <th>tempo</th>\n",
       "      <th>duration_ms</th>\n",
       "    </tr>\n",
       "  </thead>\n",
       "  <tbody>\n",
       "    <tr>\n",
       "      <th>0</th>\n",
       "      <td>6f807x0ima9a1j3VPbc7VN</td>\n",
       "      <td>I Don't Care (with Justin Bieber) - Loud Luxur...</td>\n",
       "      <td>Ed Sheeran</td>\n",
       "      <td>66</td>\n",
       "      <td>2oCs0DGTsRO98Gh5ZSl2Cx</td>\n",
       "      <td>I Don't Care (with Justin Bieber) [Loud Luxury...</td>\n",
       "      <td>2019-06-14</td>\n",
       "      <td>Pop Remix</td>\n",
       "      <td>37i9dQZF1DXcZDD7cfEKhW</td>\n",
       "      <td>pop</td>\n",
       "      <td>...</td>\n",
       "      <td>6</td>\n",
       "      <td>-2.634</td>\n",
       "      <td>1</td>\n",
       "      <td>0.0583</td>\n",
       "      <td>0.1020</td>\n",
       "      <td>0.000000</td>\n",
       "      <td>0.0653</td>\n",
       "      <td>0.518</td>\n",
       "      <td>122.036</td>\n",
       "      <td>194754</td>\n",
       "    </tr>\n",
       "    <tr>\n",
       "      <th>1</th>\n",
       "      <td>0r7CVbZTWZgbTCYdfa2P31</td>\n",
       "      <td>Memories - Dillon Francis Remix</td>\n",
       "      <td>Maroon 5</td>\n",
       "      <td>67</td>\n",
       "      <td>63rPSO264uRjW1X5E6cWv6</td>\n",
       "      <td>Memories (Dillon Francis Remix)</td>\n",
       "      <td>2019-12-13</td>\n",
       "      <td>Pop Remix</td>\n",
       "      <td>37i9dQZF1DXcZDD7cfEKhW</td>\n",
       "      <td>pop</td>\n",
       "      <td>...</td>\n",
       "      <td>11</td>\n",
       "      <td>-4.969</td>\n",
       "      <td>1</td>\n",
       "      <td>0.0373</td>\n",
       "      <td>0.0724</td>\n",
       "      <td>0.004210</td>\n",
       "      <td>0.3570</td>\n",
       "      <td>0.693</td>\n",
       "      <td>99.972</td>\n",
       "      <td>162600</td>\n",
       "    </tr>\n",
       "    <tr>\n",
       "      <th>2</th>\n",
       "      <td>1z1Hg7Vb0AhHDiEmnDE79l</td>\n",
       "      <td>All the Time - Don Diablo Remix</td>\n",
       "      <td>Zara Larsson</td>\n",
       "      <td>70</td>\n",
       "      <td>1HoSmj2eLcsrR0vE9gThr4</td>\n",
       "      <td>All the Time (Don Diablo Remix)</td>\n",
       "      <td>2019-07-05</td>\n",
       "      <td>Pop Remix</td>\n",
       "      <td>37i9dQZF1DXcZDD7cfEKhW</td>\n",
       "      <td>pop</td>\n",
       "      <td>...</td>\n",
       "      <td>1</td>\n",
       "      <td>-3.432</td>\n",
       "      <td>0</td>\n",
       "      <td>0.0742</td>\n",
       "      <td>0.0794</td>\n",
       "      <td>0.000023</td>\n",
       "      <td>0.1100</td>\n",
       "      <td>0.613</td>\n",
       "      <td>124.008</td>\n",
       "      <td>176616</td>\n",
       "    </tr>\n",
       "    <tr>\n",
       "      <th>3</th>\n",
       "      <td>75FpbthrwQmzHlBJLuGdC7</td>\n",
       "      <td>Call You Mine - Keanu Silva Remix</td>\n",
       "      <td>The Chainsmokers</td>\n",
       "      <td>60</td>\n",
       "      <td>1nqYsOef1yKKuGOVchbsk6</td>\n",
       "      <td>Call You Mine - The Remixes</td>\n",
       "      <td>2019-07-19</td>\n",
       "      <td>Pop Remix</td>\n",
       "      <td>37i9dQZF1DXcZDD7cfEKhW</td>\n",
       "      <td>pop</td>\n",
       "      <td>...</td>\n",
       "      <td>7</td>\n",
       "      <td>-3.778</td>\n",
       "      <td>1</td>\n",
       "      <td>0.1020</td>\n",
       "      <td>0.0287</td>\n",
       "      <td>0.000009</td>\n",
       "      <td>0.2040</td>\n",
       "      <td>0.277</td>\n",
       "      <td>121.956</td>\n",
       "      <td>169093</td>\n",
       "    </tr>\n",
       "    <tr>\n",
       "      <th>4</th>\n",
       "      <td>1e8PAfcKUYoKkxPhrHqw4x</td>\n",
       "      <td>Someone You Loved - Future Humans Remix</td>\n",
       "      <td>Lewis Capaldi</td>\n",
       "      <td>69</td>\n",
       "      <td>7m7vv9wlQ4i0LFuJiE2zsQ</td>\n",
       "      <td>Someone You Loved (Future Humans Remix)</td>\n",
       "      <td>2019-03-05</td>\n",
       "      <td>Pop Remix</td>\n",
       "      <td>37i9dQZF1DXcZDD7cfEKhW</td>\n",
       "      <td>pop</td>\n",
       "      <td>...</td>\n",
       "      <td>1</td>\n",
       "      <td>-4.672</td>\n",
       "      <td>1</td>\n",
       "      <td>0.0359</td>\n",
       "      <td>0.0803</td>\n",
       "      <td>0.000000</td>\n",
       "      <td>0.0833</td>\n",
       "      <td>0.725</td>\n",
       "      <td>123.976</td>\n",
       "      <td>189052</td>\n",
       "    </tr>\n",
       "  </tbody>\n",
       "</table>\n",
       "<p>5 rows × 23 columns</p>\n",
       "</div>"
      ],
      "text/plain": [
       "                 track_id                                         track_name  \\\n",
       "0  6f807x0ima9a1j3VPbc7VN  I Don't Care (with Justin Bieber) - Loud Luxur...   \n",
       "1  0r7CVbZTWZgbTCYdfa2P31                    Memories - Dillon Francis Remix   \n",
       "2  1z1Hg7Vb0AhHDiEmnDE79l                    All the Time - Don Diablo Remix   \n",
       "3  75FpbthrwQmzHlBJLuGdC7                  Call You Mine - Keanu Silva Remix   \n",
       "4  1e8PAfcKUYoKkxPhrHqw4x            Someone You Loved - Future Humans Remix   \n",
       "\n",
       "       track_artist  track_popularity          track_album_id  \\\n",
       "0        Ed Sheeran                66  2oCs0DGTsRO98Gh5ZSl2Cx   \n",
       "1          Maroon 5                67  63rPSO264uRjW1X5E6cWv6   \n",
       "2      Zara Larsson                70  1HoSmj2eLcsrR0vE9gThr4   \n",
       "3  The Chainsmokers                60  1nqYsOef1yKKuGOVchbsk6   \n",
       "4     Lewis Capaldi                69  7m7vv9wlQ4i0LFuJiE2zsQ   \n",
       "\n",
       "                                    track_album_name track_album_release_date  \\\n",
       "0  I Don't Care (with Justin Bieber) [Loud Luxury...               2019-06-14   \n",
       "1                    Memories (Dillon Francis Remix)               2019-12-13   \n",
       "2                    All the Time (Don Diablo Remix)               2019-07-05   \n",
       "3                        Call You Mine - The Remixes               2019-07-19   \n",
       "4            Someone You Loved (Future Humans Remix)               2019-03-05   \n",
       "\n",
       "  playlist_name             playlist_id playlist_genre  ... key  loudness  \\\n",
       "0     Pop Remix  37i9dQZF1DXcZDD7cfEKhW            pop  ...   6    -2.634   \n",
       "1     Pop Remix  37i9dQZF1DXcZDD7cfEKhW            pop  ...  11    -4.969   \n",
       "2     Pop Remix  37i9dQZF1DXcZDD7cfEKhW            pop  ...   1    -3.432   \n",
       "3     Pop Remix  37i9dQZF1DXcZDD7cfEKhW            pop  ...   7    -3.778   \n",
       "4     Pop Remix  37i9dQZF1DXcZDD7cfEKhW            pop  ...   1    -4.672   \n",
       "\n",
       "   mode  speechiness  acousticness  instrumentalness  liveness  valence  \\\n",
       "0     1       0.0583        0.1020          0.000000    0.0653    0.518   \n",
       "1     1       0.0373        0.0724          0.004210    0.3570    0.693   \n",
       "2     0       0.0742        0.0794          0.000023    0.1100    0.613   \n",
       "3     1       0.1020        0.0287          0.000009    0.2040    0.277   \n",
       "4     1       0.0359        0.0803          0.000000    0.0833    0.725   \n",
       "\n",
       "     tempo  duration_ms  \n",
       "0  122.036       194754  \n",
       "1   99.972       162600  \n",
       "2  124.008       176616  \n",
       "3  121.956       169093  \n",
       "4  123.976       189052  \n",
       "\n",
       "[5 rows x 23 columns]"
      ]
     },
     "execution_count": 10,
     "metadata": {},
     "output_type": "execute_result"
    }
   ],
   "source": [
    "df_general.head()"
   ]
  },
  {
   "cell_type": "code",
   "execution_count": 11,
   "metadata": {},
   "outputs": [
    {
     "data": {
      "text/html": [
       "<div>\n",
       "<style scoped>\n",
       "    .dataframe tbody tr th:only-of-type {\n",
       "        vertical-align: middle;\n",
       "    }\n",
       "\n",
       "    .dataframe tbody tr th {\n",
       "        vertical-align: top;\n",
       "    }\n",
       "\n",
       "    .dataframe thead th {\n",
       "        text-align: right;\n",
       "    }\n",
       "</style>\n",
       "<table border=\"1\" class=\"dataframe\">\n",
       "  <thead>\n",
       "    <tr style=\"text-align: right;\">\n",
       "      <th></th>\n",
       "      <th>track_id</th>\n",
       "      <th>track_name</th>\n",
       "      <th>track_artist</th>\n",
       "      <th>track_popularity</th>\n",
       "      <th>track_album_id</th>\n",
       "      <th>track_album_name</th>\n",
       "      <th>track_album_release_date</th>\n",
       "      <th>playlist_name</th>\n",
       "      <th>playlist_id</th>\n",
       "      <th>playlist_genre</th>\n",
       "      <th>...</th>\n",
       "      <th>key</th>\n",
       "      <th>loudness</th>\n",
       "      <th>mode</th>\n",
       "      <th>speechiness</th>\n",
       "      <th>acousticness</th>\n",
       "      <th>instrumentalness</th>\n",
       "      <th>liveness</th>\n",
       "      <th>valence</th>\n",
       "      <th>tempo</th>\n",
       "      <th>duration_ms</th>\n",
       "    </tr>\n",
       "  </thead>\n",
       "  <tbody>\n",
       "    <tr>\n",
       "      <th>32828</th>\n",
       "      <td>7bxnKAamR3snQ1VGLuVfC1</td>\n",
       "      <td>City Of Lights - Official Radio Edit</td>\n",
       "      <td>Lush &amp; Simon</td>\n",
       "      <td>42</td>\n",
       "      <td>2azRoBBWEEEYhqV6sb7JrT</td>\n",
       "      <td>City Of Lights (Vocal Mix)</td>\n",
       "      <td>2014-04-28</td>\n",
       "      <td>♥ EDM LOVE 2020</td>\n",
       "      <td>6jI1gFr6ANFtT8MmTvA2Ux</td>\n",
       "      <td>edm</td>\n",
       "      <td>...</td>\n",
       "      <td>2</td>\n",
       "      <td>-1.814</td>\n",
       "      <td>1</td>\n",
       "      <td>0.0936</td>\n",
       "      <td>0.076600</td>\n",
       "      <td>0.000000</td>\n",
       "      <td>0.0668</td>\n",
       "      <td>0.2100</td>\n",
       "      <td>128.170</td>\n",
       "      <td>204375</td>\n",
       "    </tr>\n",
       "    <tr>\n",
       "      <th>32829</th>\n",
       "      <td>5Aevni09Em4575077nkWHz</td>\n",
       "      <td>Closer - Sultan &amp; Ned Shepard Remix</td>\n",
       "      <td>Tegan and Sara</td>\n",
       "      <td>20</td>\n",
       "      <td>6kD6KLxj7s8eCE3ABvAyf5</td>\n",
       "      <td>Closer Remixed</td>\n",
       "      <td>2013-03-08</td>\n",
       "      <td>♥ EDM LOVE 2020</td>\n",
       "      <td>6jI1gFr6ANFtT8MmTvA2Ux</td>\n",
       "      <td>edm</td>\n",
       "      <td>...</td>\n",
       "      <td>0</td>\n",
       "      <td>-4.462</td>\n",
       "      <td>1</td>\n",
       "      <td>0.0420</td>\n",
       "      <td>0.001710</td>\n",
       "      <td>0.004270</td>\n",
       "      <td>0.3750</td>\n",
       "      <td>0.4000</td>\n",
       "      <td>128.041</td>\n",
       "      <td>353120</td>\n",
       "    </tr>\n",
       "    <tr>\n",
       "      <th>32830</th>\n",
       "      <td>7ImMqPP3Q1yfUHvsdn7wEo</td>\n",
       "      <td>Sweet Surrender - Radio Edit</td>\n",
       "      <td>Starkillers</td>\n",
       "      <td>14</td>\n",
       "      <td>0ltWNSY9JgxoIZO4VzuCa6</td>\n",
       "      <td>Sweet Surrender (Radio Edit)</td>\n",
       "      <td>2014-04-21</td>\n",
       "      <td>♥ EDM LOVE 2020</td>\n",
       "      <td>6jI1gFr6ANFtT8MmTvA2Ux</td>\n",
       "      <td>edm</td>\n",
       "      <td>...</td>\n",
       "      <td>6</td>\n",
       "      <td>-4.899</td>\n",
       "      <td>0</td>\n",
       "      <td>0.0481</td>\n",
       "      <td>0.108000</td>\n",
       "      <td>0.000001</td>\n",
       "      <td>0.1500</td>\n",
       "      <td>0.4360</td>\n",
       "      <td>127.989</td>\n",
       "      <td>210112</td>\n",
       "    </tr>\n",
       "    <tr>\n",
       "      <th>32831</th>\n",
       "      <td>2m69mhnfQ1Oq6lGtXuYhgX</td>\n",
       "      <td>Only For You - Maor Levi Remix</td>\n",
       "      <td>Mat Zo</td>\n",
       "      <td>15</td>\n",
       "      <td>1fGrOkHnHJcStl14zNx8Jy</td>\n",
       "      <td>Only For You (Remixes)</td>\n",
       "      <td>2014-01-01</td>\n",
       "      <td>♥ EDM LOVE 2020</td>\n",
       "      <td>6jI1gFr6ANFtT8MmTvA2Ux</td>\n",
       "      <td>edm</td>\n",
       "      <td>...</td>\n",
       "      <td>2</td>\n",
       "      <td>-3.361</td>\n",
       "      <td>1</td>\n",
       "      <td>0.1090</td>\n",
       "      <td>0.007920</td>\n",
       "      <td>0.127000</td>\n",
       "      <td>0.3430</td>\n",
       "      <td>0.3080</td>\n",
       "      <td>128.008</td>\n",
       "      <td>367432</td>\n",
       "    </tr>\n",
       "    <tr>\n",
       "      <th>32832</th>\n",
       "      <td>29zWqhca3zt5NsckZqDf6c</td>\n",
       "      <td>Typhoon - Original Mix</td>\n",
       "      <td>Julian Calor</td>\n",
       "      <td>27</td>\n",
       "      <td>0X3mUOm6MhxR7PzxG95rAo</td>\n",
       "      <td>Typhoon/Storm</td>\n",
       "      <td>2014-03-03</td>\n",
       "      <td>♥ EDM LOVE 2020</td>\n",
       "      <td>6jI1gFr6ANFtT8MmTvA2Ux</td>\n",
       "      <td>edm</td>\n",
       "      <td>...</td>\n",
       "      <td>5</td>\n",
       "      <td>-4.571</td>\n",
       "      <td>0</td>\n",
       "      <td>0.0385</td>\n",
       "      <td>0.000133</td>\n",
       "      <td>0.341000</td>\n",
       "      <td>0.7420</td>\n",
       "      <td>0.0894</td>\n",
       "      <td>127.984</td>\n",
       "      <td>337500</td>\n",
       "    </tr>\n",
       "  </tbody>\n",
       "</table>\n",
       "<p>5 rows × 23 columns</p>\n",
       "</div>"
      ],
      "text/plain": [
       "                     track_id                            track_name  \\\n",
       "32828  7bxnKAamR3snQ1VGLuVfC1  City Of Lights - Official Radio Edit   \n",
       "32829  5Aevni09Em4575077nkWHz   Closer - Sultan & Ned Shepard Remix   \n",
       "32830  7ImMqPP3Q1yfUHvsdn7wEo          Sweet Surrender - Radio Edit   \n",
       "32831  2m69mhnfQ1Oq6lGtXuYhgX        Only For You - Maor Levi Remix   \n",
       "32832  29zWqhca3zt5NsckZqDf6c                Typhoon - Original Mix   \n",
       "\n",
       "         track_artist  track_popularity          track_album_id  \\\n",
       "32828    Lush & Simon                42  2azRoBBWEEEYhqV6sb7JrT   \n",
       "32829  Tegan and Sara                20  6kD6KLxj7s8eCE3ABvAyf5   \n",
       "32830     Starkillers                14  0ltWNSY9JgxoIZO4VzuCa6   \n",
       "32831          Mat Zo                15  1fGrOkHnHJcStl14zNx8Jy   \n",
       "32832    Julian Calor                27  0X3mUOm6MhxR7PzxG95rAo   \n",
       "\n",
       "                   track_album_name track_album_release_date    playlist_name  \\\n",
       "32828    City Of Lights (Vocal Mix)               2014-04-28  ♥ EDM LOVE 2020   \n",
       "32829                Closer Remixed               2013-03-08  ♥ EDM LOVE 2020   \n",
       "32830  Sweet Surrender (Radio Edit)               2014-04-21  ♥ EDM LOVE 2020   \n",
       "32831        Only For You (Remixes)               2014-01-01  ♥ EDM LOVE 2020   \n",
       "32832                 Typhoon/Storm               2014-03-03  ♥ EDM LOVE 2020   \n",
       "\n",
       "                  playlist_id playlist_genre  ... key  loudness  mode  \\\n",
       "32828  6jI1gFr6ANFtT8MmTvA2Ux            edm  ...   2    -1.814     1   \n",
       "32829  6jI1gFr6ANFtT8MmTvA2Ux            edm  ...   0    -4.462     1   \n",
       "32830  6jI1gFr6ANFtT8MmTvA2Ux            edm  ...   6    -4.899     0   \n",
       "32831  6jI1gFr6ANFtT8MmTvA2Ux            edm  ...   2    -3.361     1   \n",
       "32832  6jI1gFr6ANFtT8MmTvA2Ux            edm  ...   5    -4.571     0   \n",
       "\n",
       "       speechiness  acousticness  instrumentalness  liveness  valence  \\\n",
       "32828       0.0936      0.076600          0.000000    0.0668   0.2100   \n",
       "32829       0.0420      0.001710          0.004270    0.3750   0.4000   \n",
       "32830       0.0481      0.108000          0.000001    0.1500   0.4360   \n",
       "32831       0.1090      0.007920          0.127000    0.3430   0.3080   \n",
       "32832       0.0385      0.000133          0.341000    0.7420   0.0894   \n",
       "\n",
       "         tempo  duration_ms  \n",
       "32828  128.170       204375  \n",
       "32829  128.041       353120  \n",
       "32830  127.989       210112  \n",
       "32831  128.008       367432  \n",
       "32832  127.984       337500  \n",
       "\n",
       "[5 rows x 23 columns]"
      ]
     },
     "execution_count": 11,
     "metadata": {},
     "output_type": "execute_result"
    }
   ],
   "source": [
    "df_general.tail()"
   ]
  },
  {
   "cell_type": "markdown",
   "metadata": {},
   "source": [
    "En concreto, veamos los diferentes encabezados de las columnas para ver qué información contiene cada una de ellas:"
   ]
  },
  {
   "cell_type": "code",
   "execution_count": 12,
   "metadata": {},
   "outputs": [
    {
     "data": {
      "text/plain": [
       "Index(['track_id', 'track_name', 'track_artist', 'track_popularity',\n",
       "       'track_album_id', 'track_album_name', 'track_album_release_date',\n",
       "       'playlist_name', 'playlist_id', 'playlist_genre', 'playlist_subgenre',\n",
       "       'danceability', 'energy', 'key', 'loudness', 'mode', 'speechiness',\n",
       "       'acousticness', 'instrumentalness', 'liveness', 'valence', 'tempo',\n",
       "       'duration_ms'],\n",
       "      dtype='object')"
      ]
     },
     "execution_count": 12,
     "metadata": {},
     "output_type": "execute_result"
    }
   ],
   "source": [
    "df_general.columns"
   ]
  },
  {
   "cell_type": "markdown",
   "metadata": {},
   "source": [
    "De la salida anterior, queremos observar los datos de la columna `playlist_name`.  Para ello:"
   ]
  },
  {
   "cell_type": "code",
   "execution_count": 13,
   "metadata": {},
   "outputs": [
    {
     "data": {
      "text/plain": [
       "array(['Pop Remix', 'Dance Pop', 'Dance Room', 'Cardio', 'Dance Pop Hits',\n",
       "       'Pop Warmup 130 BPM', 'Dance Pop: Japan', 'K-Party Dance Mix',\n",
       "       'Dance Pop Tunes', 'Pop / Dance', 'Todo Éxitos', '90s Dance Hits',\n",
       "       'Christian Dance Party', 'Pop Dance Hits',\n",
       "       'Best of 2019 Dance Pop: Japan',\n",
       "       'Ultimate Indie Presents... Best Indie Tracks of the 2010s',\n",
       "       'TUNES DANCE AND POP',\n",
       "       'Pop Inglés (2020 - 2010s)💙 Música En Inglés 2010s',\n",
       "       'ELETRIC POP & DANCE',\n",
       "       'Pop - Pop UK - 2019 - Canadian Pop - 2019 - Pop',\n",
       "       'The Sound of Post-Teen Pop', 'Post teen pop',\n",
       "       'post-teen alternative, indie, pop (large variety)',\n",
       "       'Pop Punk | Post-Hardcore', 'Post pop teen',\n",
       "       'Intro to Post-Teen Pop', '🤩🤪Post Teen Pop🤪🤩',\n",
       "       'Someone You Loved Lewis Capaldi (Pop Music Mix)',\n",
       "       \"Dr. Q's Prescription Playlist💊\", 'a taste of the mainstream',\n",
       "       'post teen pop', 'BALLARE - رقص', 'Post Teen Pop', 'Post-Teen Pop',\n",
       "       'Post-teen pop', 'post-teen pop', 'Electro Pop | Electropop',\n",
       "       'Electropop Hits  2017-2020', 'Electropop 2019', 'ELECTROPOP',\n",
       "       'This Is: Javiera Mena', 'ElectroPop 2020', 'Electropop - Pop',\n",
       "       'This Is Janelle Monáe', 'ELECTROPOP🐹', 'Electropop 80/90s',\n",
       "       'Electropop', 'Electropop And Play',\n",
       "       'Mix ElectroPop//ElectroHouse// DeepHouse 2020',\n",
       "       'ELECTROPOP EN ESPAÑOL',\n",
       "       'Maxi Pop  GOLD (New Wave, Electropop, Synth Pop...)',\n",
       "       'Gothic / Industrial / Mittelalter / EBM / Futurepop / Gothik / Electropop',\n",
       "       \"80's Songs | Top 💯 80s Music Hits\", 'GTA V - Radio Mirror Park',\n",
       "       'ElectroPop', '10er Playlist',\n",
       "       'Indie Poptimism (PUBLIC, The Band CAMINO, lovelytheband)',\n",
       "       'Chillout & Remixes 💜', 'POPTIMISM',\n",
       "       'The Sound of Indie Poptimism', 'Indie/Jazz Poptimism',\n",
       "       'The Edge of Indie Poptimism', '2019 in Indie Poptimism',\n",
       "       'Indie Poptimism', 'A Loose Definition of Indie Poptimism',\n",
       "       'Intro to Indie Poptimism', 'indie poptimism🕺🏻',\n",
       "       'The Pulse of Indie Poptimism',\n",
       "       \"random playlist that can't decide its genre so go ahead jam along with these catchy tunes\",\n",
       "       'Indie Poptimism!', 'indie poptimism', 'Music&Other Drugs',\n",
       "       'Deep-deep Bubble Pop', 'RapCaviar', 'Jazz Vibes', 'Lush Lofi',\n",
       "       'RAP 91', 'Lo-Fi Beats', 'Hip-Hop Central', 'Generacja Hip Hop',\n",
       "       'Hip-Hop Drive', 'Hip Hop Controller', 'Hip-Hop Favourites',\n",
       "       'A1 Hip-Hop', 'Hip-Hop Mixtape', 'DK rap', 'This Is Logic',\n",
       "       'Lofi Hip-Hop', 'Rap Workout', 'Alternative Hip Hop', 'Modus Mio',\n",
       "       'Hip Te Hop', 'Arena Hip-Hop', 'Southern Hip Hop',\n",
       "       'Southern California Hip Hop Primer',\n",
       "       'Dirty South Rap Classics by DJ HOTSAUCE', \"90's Southern Hip Hop\",\n",
       "       '90s-2000s Southern Hip Hop / Crunk', 'Viral Southern Hip Hop',\n",
       "       '◤ Hip Hop Dance Music – Urban – Trap – Breaking Locking Popping Bopping – WOD – World of Dance',\n",
       "       'Badass Rock', 'The Sound of Southern Hip Hop',\n",
       "       'Southern Soul BBQ Mix',\n",
       "       \"🔥💵 Hip Hop, Rap, Heavy 808's - New School\",\n",
       "       'Minitruckin Playlist', \"Hip-Hop 'n RnB\",\n",
       "       \"90's Hip Hop Ultimate Collection\", 'HIP&HOP',\n",
       "       'Contemporary Hip Hop', '3rd Coast Classics',\n",
       "       'Southern soul & hip hop', 'Gangster Rap', 'Gangster Rap Workout',\n",
       "       'Russian Gangster Rap', 'Gangster Rap | 100 % Gangster',\n",
       "       \"Gangsta Rap/90's Hip-Hop\", 'Gangster Rap Deutsch',\n",
       "       'GTA San Andreas Radio Los Santos', '90s Hiphop / Gangsta Rap',\n",
       "       'Gangsta Rap 💎 Rap Party', 'Oldschool Gangsta Rap 👑',\n",
       "       'GANGSTA Rap', \"90's Gangster Rap\", 'RAP Gangsta',\n",
       "       'RUSSIAN Gangster Rap', 'GANGSTA RAP',\n",
       "       '90s Gangsta Rap / Top Hip-hop Classics', 'Mexican Gangsta Rap',\n",
       "       'Rap Party 24/7 Radio / Gangsta Rap', '< DARK TRAP >', 'Zona Trap',\n",
       "       'Trapperz Brasil', 'Trap Land', 'Trap strefa', 'Trapperz',\n",
       "       'Trap Nation', 'Flow Selecto', 'Trapperz Argentina', 'Trap Mojito',\n",
       "       'Trap Ouro', 'Trap Funk', 'Trap Rewind', 'Arabic Trap', 'Sad Trap',\n",
       "       'Dose Trap', 'Trap Nation 🔊', 'Trap Argentino - Trap Argentina',\n",
       "       'Trap Luv', 'Trap 2020 🔥', 'Trap Americana',\n",
       "       \"This Is Guns N' Roses\", 'Michael Learns To Rock album',\n",
       "       'The Black Album', 'City Pop 1985 シティーポップ',\n",
       "       'The Cranberries Best Of', 'Vault: Def Leppard Greatest Hits',\n",
       "       '80s Pop & Rock Hits and Album Tracks', 'Rock and Rios',\n",
       "       'Progressive Rock / Metal - Rock /Metal  Progresivo',\n",
       "       'Mega Rock Ballads: The Best Slow Rock Compilation Ever !',\n",
       "       'House Of The Rising Sun',\n",
       "       'Coldplay – Ghost Stories (Deluxe Edition)',\n",
       "       '70s Pop & Rock Hits and Deep Tracks', \"L' ALBUM ROCK\",\n",
       "       'ONE OK ROCK with Orchestra Japan Tour 2018 Setlist',\n",
       "       'The Queen - La Discografia Completa',\n",
       "       'Soda Stereo – El Ultimo Concierto', \"Nikki Sixx's Top Pixx\",\n",
       "       'The Sound of Album Rock', 'Caifanes La Historia', 'Rock Classics',\n",
       "       'Classic Rock', 'Classic Rock Drive', 'Classic Rock Workout',\n",
       "       'Pinoy Classic Rock', 'Classic Rock Now', 'Soft Rock Drive',\n",
       "       'Supernatural Classic Rock', 'Classic Rock Legends',\n",
       "       'Classic Rock 70s 80s 90s, Rock Classics - 70s Rock, 80s Rock, 90s Rock Rock  Classicos',\n",
       "       'Southern Rock/Classic Rock', '80s / Classic Rock',\n",
       "       'Afro Psychedelica', 'Classic Rock Retrogamer',\n",
       "       'Workday: Rock Classics', 'Classic Rock Greatest Hits',\n",
       "       'Blues Rock', \"70's Classic Rock\", 'Classic Rock Radio',\n",
       "       'Classic Rock Playlist.', 'The Sound of Permanent Wave',\n",
       "       'Permanent wave',\n",
       "       'Muse Radio - (Uprising, Starlight, Supermassive Black Hole, Madness)',\n",
       "       'Permanent Wave', 'Permanent wave 🌊', 'permanent wave',\n",
       "       'keg party jukebox', 'Intro to Permanent Wave',\n",
       "       'Permanent Wave CHDB', '②⓪①⑨ mixed', 'SNZB PERMANENT WAVE',\n",
       "       'I didn’t know perm stood for permanent (wave)',\n",
       "       'Modern Indie Rock // Alternative Rock / Garage Rock / Pop Punk / Grunge / Britpop / Pop Rock',\n",
       "       'Permanent Wave Cafe', '\"Permanent Wave\"', 'Rock Hard',\n",
       "       'Hard Rock', '’80s Hard Rock', 'Hard Rock Workout',\n",
       "       'This Is Scorpions', 'HARD ROCK CAFE', 'Hard Rock Cafe Classics',\n",
       "       'Hard Rock Workout!', 'Classic Hard Rock', 'Workout Hard Rock',\n",
       "       'Rock Hubspot', 'HARD ROCK Vibes', 'New Hard Rock',\n",
       "       \"Rock Ballads 80s 90s | Best Rock Love Songs 80's 90's Music Hits\",\n",
       "       '70s Hard Rock', 'Hard Rock Classics 1967-1991 (Party Edition)',\n",
       "       \"2000's hard rock\", 'Tropical House', 'Paraiso Tropical',\n",
       "       'Vibra Tropical', 'Tropical Vibes', 'Punto Tropical',\n",
       "       'Orgulho Tropical', 'Tropical House 🏝 2020 Hits',\n",
       "       'Tropical House 🌴', 'TROPICAL🌴', 'Tropical Rising', 'Sunny Beats',\n",
       "       'Tropical Nights', 'Tropical Beats',\n",
       "       'Tropical House Remixes 🍍 Tropical Remixes & Tropical Covers',\n",
       "       'Tropical House 2020', 'Tropical Morning', 'Paraíso Tropical',\n",
       "       'EDM TROPICAL', 'Tropical House Run 190 BPM', 'Latin Pop Classics',\n",
       "       'Latin Pop VIP', 'Global X', 'Latin Pop Rising',\n",
       "       'LATIN POP 2020 🔥 Pop latino actual', 'MIX LATIN POP°',\n",
       "       'This Is Gloria Estefan', 'Latin Pop antiguo', 'Unplugged Hits 📣',\n",
       "       'Latin Pop Songs', 'F**KIN PERFECT',\n",
       "       'Pop Latino 2019 - Mix Canciones Reggaeton & Pop Latino - Pop En Español 2019 Musica Para Bailar',\n",
       "       '2020 Hits & 2019  Hits – Top Global Tracks 🔥🔥🔥',\n",
       "       'INDIE POP! TUNES', 'RADIO POP CHARTS', 'LATIN POP- DJ GIAN',\n",
       "       'Fiesta Latina Mix 🎈🎉💃🏻🕺🏻☀️🏖', 'Exitos 2020 - Latin Billboard',\n",
       "       'Latin Pop 2019', 'Great Pops', 'Baila Reggaeton',\n",
       "       'Mansión Reggaetón', 'Reggaeton 2020 ☀', 'Reggaeton Classics',\n",
       "       'Perreo City', 'De Fiesta', 'El Ritmo', '¡Viva Latino!',\n",
       "       'Reggaeton De Ayer',\n",
       "       'Tusa - Karol G | China - Anuel AA | Estrenos Reggaeton y Música Urbana 2019',\n",
       "       'Verano Forever', 'Reggaeton Rewind', 'REGGAETON ANTIGUO 🔥',\n",
       "       'Academia Reggaetón', 'REGGAETON VIEJO', 'Todo Reggaeton',\n",
       "       'Reggaeton 2020 😍 🔥', 'Reggaeton viejito🔥', 'This Is: Don Omar',\n",
       "       'latin hip hop', 'Latin Hip Hop/Freestyle', 'Chicano Rap',\n",
       "       'Global Top 50 | 2020 Hits', 'Latin Village 2019',\n",
       "       'Urbano: Latino Vibes', 'Latest Latin American Hits 2020',\n",
       "       'Latin Hip Hop & Rap Playlist 2019', 'Pop 2009-2011',\n",
       "       'Latin/Hip Hop/Dancehall/Soca',\n",
       "       \"80's Freestyle/Disco Dance Party (Set Crossfade to 4-Seconds)\",\n",
       "       \"Today's Hits 2000-Present\",\n",
       "       'VidaLoca - Latin / Raggaeton / Hip Hop ©',\n",
       "       '🔥🦁 GOOD VIBES ONLY 🦁🔥 // BROEDERLIEFDE || FRENNA || BROEDERS || HENKIE T  || BIZZEY || POKE \\\\\\\\',\n",
       "       'LATIN FLOW MIX - Música Cristiana🎵',\n",
       "       'Hot Latino Mix (Latin, Hip Hop, Rap, RnB, Dancehall, Reggeaton, Afro)',\n",
       "       \"HIP-HOP: Latin Rap ['89-present]\",\n",
       "       'School Dance 2019 (Squeaky Clean)', 'Los Cangri',\n",
       "       'New Hip Hop\\u200f\\u200f\\u200b\\u200b   \\u200d',\n",
       "       'Contemporary Urban', 'URBAN NATION', 'Most Popular 2020 TOP 50',\n",
       "       'New R&B\\u200f\\u200f\\u200b\\u200b   \\u200d',\n",
       "       'Top Urban Underground', 'Urban Contemporary',\n",
       "       'The Sound of Urban Contemporary', 'Chixtape 5 - Tory Lanez',\n",
       "       'urban contemporary', 'Urban contemporary',\n",
       "       'PROJECT: Contemporary', 'Urban/Trap - Contemporary RAP',\n",
       "       'urban CONTEMPORARY', 'Gospel', 'Cuban vibes only',\n",
       "       'The 1950s/1960s/1970s/1980s/1990s/2000s/2010s with pop/r&b/soul/boogie/dance/jazz/hip hop/hop/rap.',\n",
       "       'Brisa Pop', 'Pop Hits 2020',\n",
       "       'Ultimate Indie Presents... Best Tracks of 2019',\n",
       "       'Feeling Accomplished', 'Pop / Hip-Hop: Gas ⛽️',\n",
       "       'Charts 2020 🔥Top 2020🔥Hits 2020🔥Summer 2020🔥Pop 2020🔥Popular Music🔥Clean Pop 2020🔥Sing Alongs',\n",
       "       'Girl On Fire', 'Hip pop',\n",
       "       'Nidza Bleja - English HIP HOP/POP Songs', '90s/00s Hip Hop & RnB',\n",
       "       'TOP 50 GLOBAL 2020 UPDATED WEEKLY 🌍🎶 WORLDWIDE', 'Hip Pop 2019',\n",
       "       'Bluegrass Covers', 'Latest Hits 2020 - Pop, Hip Hop & RnB',\n",
       "       'Musica Italiana 2020 - Playlist Pop & Hip-Hop (Canzoni Italiane 2020)',\n",
       "       \"Today's Hits (Clean)\", 'Smooth Hip Hop', 'Fresh Essentials',\n",
       "       'New Jack Swing', 'New Jack Swing - 90s R&B fused w Hip Hop',\n",
       "       'New Jack Swing/ R&B Hits: 1987 - 2002', \"90's NEW JACK SWING\",\n",
       "       'Swingbeat (old skool), New Jack Swing, R&B, Hip Hop, Urban',\n",
       "       'New Jack City',\n",
       "       '90s R&B - The BET Planet Groove/Midnight Love Mix',\n",
       "       'New Jack Swing | The Best 👌', 'Ultimate Throwbacks Collection',\n",
       "       'Back in the day - R&B, New Jack Swing, Swingbeat, RNB..etc.',\n",
       "       'CSR 103:9 (GTA: SA)', 'Best of New Jack Swing',\n",
       "       \"New Jack Swing -late 80's & early 90's Hip Hop and R&B\",\n",
       "       'The Sound of New Jack Swing', 'The New (Jack Swing) Testament',\n",
       "       '80s-90s R&B / New Jack Swing / Funk / Dance / Soul',\n",
       "       \"Kenny B's Ultimate New Jack Swing Mix\", \"R&B 80's/90's/00's\",\n",
       "       '1987-1997 OLD SKOOL JAMZ', 'I Love My Neo-Soul', 'Neo Soul Music',\n",
       "       'Neo-Soul', 'Neo-Soul Guitar', 'NEO SOUL GUITAR',\n",
       "       'Neo Soul / Modern Jazz / Smooth Hiphop', 'NEO-soul',\n",
       "       'Groovy // Funky // Neo-Soul', 'Christmas Soul',\n",
       "       'Neo-Soul / Soulful R&B', 'Neo Soul 2019', 'NEO FUNK AND SOUL',\n",
       "       'Neo Soul', 'Saxophone in Hip Hop - R&B Lounge - Jazz Rap',\n",
       "       'Japanese Funk/Soul/NEO/Jazz/Acid', 'Neo-Jazz Soul RnB & Afro',\n",
       "       'Gospel Neo Soul', 'Soul Coffee (The Best Neo-Soul Mixtape ever)',\n",
       "       'Neo-Soul Essentials', 'Sexy Soul 2020', 'Electro House 2020',\n",
       "       'Electro House Top Tracks', 'Nasty Bits',\n",
       "       'Electro Posé - Discoveries',\n",
       "       'Techno House 2020 👽 Best Collection 👻 Top DJ’s Electronic Music - Deep House - Trance - Tech House - Dance - Electro Pop',\n",
       "       'EDM 2020 House & Dance', 'Electro Vibes', 'Electro Swing Top 100',\n",
       "       'Electro Swing', 'Electro House', 'ELECTRO HOUSE 2020',\n",
       "       'New House   \\u200d', 'Jeff Seid Electro House',\n",
       "       'Crossfit\\u200f\\u200f\\u200b\\u200b   \\u200d',\n",
       "       \"Electro House - by Spinnin' Records\", '💊ELECTRO-HOUSE-TECH💊',\n",
       "       'Fitness Workout Electro | House | Dance | Progressive House',\n",
       "       'Club Mix 2020 🍹', 'House Electro 2019',\n",
       "       '🔊BASSBOOSTED🔊⚡ELECTRO HOUSE⚡🔥EDM CAR MUSIC2018/2019🔥',\n",
       "       'Big Room EDM', 'Big Room Beast',\n",
       "       'Big Room House | Festival Bangers', 'PAROOKAVILLE - Big Room',\n",
       "       'Big Room House / Bigroom', \"Big Room EDM - by Spinnin' Records\",\n",
       "       'BIG-ROOM NEVER DIES !', 'Dancefloor Beats', 'Bounce United',\n",
       "       'Locker Room', 'Sick Big Room House Drops | EZUMI',\n",
       "       'big boom room — TOMORROWLAND EDC EDM BIG ROOM AMF ADE DANCE TRANCE HARDWELL TIESTO',\n",
       "       'Trance Party 2019 by FUTURE TRANCE', 'SINULOG Festival 2020',\n",
       "       '[EAS]: Festival Big Room', 'Big White Room-Jessie-J',\n",
       "       'Big Room House', 'ALPAS Music Festival', 'Epic Bass Drops',\n",
       "       'Big Room 2019', '@deniceemoberg EDM - POP REMIXES',\n",
       "       'EDM House & Dance', 'Pop EDM Remixes', 'EDM 2019',\n",
       "       'Waves Pop and EDM', 'Pop Hits 2000-2019', 'EDM - pop remixes',\n",
       "       'Verão 2020 | Pop | Funk | Sertanejo | EDM | Top Hits 2019 - As Mais Tocadas',\n",
       "       '2010 - 2011 - 2012 - 2013 - 2014 - 2015 - 2016 - 2017 - 2018 - 2019 - 2020 TOP HITS',\n",
       "       'K-Crazy Michioso Tunes', 'EDM Trap', '2015 songs', 'Pop EDM',\n",
       "       'Tastemakers Ball  -  EDM - POP and FUN', 'EDM Pop', 'Happy EDM',\n",
       "       'EDM/POP', 'Selected House',\n",
       "       'Deep Electronic Music 2020 & Progressive House',\n",
       "       'Female Vocal EDM', 'Vocal House',\n",
       "       'Hands Up\\u200f\\u200f\\u200b\\u200b   \\u200d',\n",
       "       'House/Electro/Progressive/Disco/Lofi/Synthwave', 'Alex Workout',\n",
       "       '2011-2014 House', 'Electro/Progressive/Club House',\n",
       "       'CHRISTIAN ELECTRO / DANCE / EDM',\n",
       "       'Epic Bass Drops | Best House Mixes', 'Brand New EDM',\n",
       "       'Electrónica, Progressive House, Electro House y más 🎧',\n",
       "       'Gym (Melbourne Bounce/Progressive House)',\n",
       "       'Fresh EDM | Progressive House | Electro House | Trap | Deep House | Electronic | Future House/Bass',\n",
       "       'Festival Music 2019 - Warm Up Music (EDM, Big Room & Progressive House)',\n",
       "       'Underground Party | Hypnotic | Minimal | Acid | Big Room | Tech | Liquid',\n",
       "       'Trending EDM by Nik Cooper', '♥ EDM LOVE 2020'], dtype=object)"
      ]
     },
     "execution_count": 13,
     "metadata": {},
     "output_type": "execute_result"
    }
   ],
   "source": [
    "df_general['playlist_name'].unique()"
   ]
  },
  {
   "cell_type": "code",
   "execution_count": 14,
   "metadata": {},
   "outputs": [
    {
     "data": {
      "text/plain": [
       "449"
      ]
     },
     "execution_count": 14,
     "metadata": {},
     "output_type": "execute_result"
    }
   ],
   "source": [
    "df_general['playlist_name'].unique().size"
   ]
  },
  {
   "cell_type": "markdown",
   "metadata": {},
   "source": [
    "Observamos que existen 449 registros únicos de listas en las que están incluidas estas canciones. Esta columna no aporta información relevante para el análisis, por lo que eliminaremos `playlist_name` y `playlist_id`"
   ]
  },
  {
   "cell_type": "code",
   "execution_count": 15,
   "metadata": {},
   "outputs": [],
   "source": [
    "df_general.drop(['playlist_name', 'playlist_id'], axis=1, inplace=True)"
   ]
  },
  {
   "cell_type": "code",
   "execution_count": 16,
   "metadata": {},
   "outputs": [
    {
     "data": {
      "text/plain": [
       "(32833, 21)"
      ]
     },
     "execution_count": 16,
     "metadata": {},
     "output_type": "execute_result"
    }
   ],
   "source": [
    "df_general.shape"
   ]
  },
  {
   "cell_type": "markdown",
   "metadata": {},
   "source": [
    "Ahora haremos un primer análisis de la tipología de datos con los que trabajaremos:"
   ]
  },
  {
   "cell_type": "code",
   "execution_count": 17,
   "metadata": {},
   "outputs": [
    {
     "data": {
      "text/plain": [
       "track_id                     object\n",
       "track_name                   object\n",
       "track_artist                 object\n",
       "track_popularity              int64\n",
       "track_album_id               object\n",
       "track_album_name             object\n",
       "track_album_release_date     object\n",
       "playlist_genre               object\n",
       "playlist_subgenre            object\n",
       "danceability                float64\n",
       "energy                      float64\n",
       "key                           int64\n",
       "loudness                    float64\n",
       "mode                          int64\n",
       "speechiness                 float64\n",
       "acousticness                float64\n",
       "instrumentalness            float64\n",
       "liveness                    float64\n",
       "valence                     float64\n",
       "tempo                       float64\n",
       "duration_ms                   int64\n",
       "dtype: object"
      ]
     },
     "execution_count": 17,
     "metadata": {},
     "output_type": "execute_result"
    }
   ],
   "source": [
    "df_general.dtypes"
   ]
  },
  {
   "cell_type": "markdown",
   "metadata": {},
   "source": [
    "Podemos observar que `track_album_release_date` es formato `object` y quizá nos sería más útil en formato fecha e incluso tener por separado cada elemento de la fecha (año, mes y día). Lo trataremos posteriormente."
   ]
  },
  {
   "cell_type": "markdown",
   "metadata": {},
   "source": [
    "Obtenemos un resumen general de las variables numéricas de nuestro conjunto de datos."
   ]
  },
  {
   "cell_type": "code",
   "execution_count": 18,
   "metadata": {},
   "outputs": [
    {
     "data": {
      "text/html": [
       "<div>\n",
       "<style scoped>\n",
       "    .dataframe tbody tr th:only-of-type {\n",
       "        vertical-align: middle;\n",
       "    }\n",
       "\n",
       "    .dataframe tbody tr th {\n",
       "        vertical-align: top;\n",
       "    }\n",
       "\n",
       "    .dataframe thead th {\n",
       "        text-align: right;\n",
       "    }\n",
       "</style>\n",
       "<table border=\"1\" class=\"dataframe\">\n",
       "  <thead>\n",
       "    <tr style=\"text-align: right;\">\n",
       "      <th></th>\n",
       "      <th>track_popularity</th>\n",
       "      <th>danceability</th>\n",
       "      <th>energy</th>\n",
       "      <th>key</th>\n",
       "      <th>loudness</th>\n",
       "      <th>mode</th>\n",
       "      <th>speechiness</th>\n",
       "      <th>acousticness</th>\n",
       "      <th>instrumentalness</th>\n",
       "      <th>liveness</th>\n",
       "      <th>valence</th>\n",
       "      <th>tempo</th>\n",
       "      <th>duration_ms</th>\n",
       "    </tr>\n",
       "  </thead>\n",
       "  <tbody>\n",
       "    <tr>\n",
       "      <th>count</th>\n",
       "      <td>32833.000000</td>\n",
       "      <td>32833.000000</td>\n",
       "      <td>32833.000000</td>\n",
       "      <td>32833.000000</td>\n",
       "      <td>32833.000000</td>\n",
       "      <td>32833.000000</td>\n",
       "      <td>32833.000000</td>\n",
       "      <td>32833.000000</td>\n",
       "      <td>32833.000000</td>\n",
       "      <td>32833.000000</td>\n",
       "      <td>32833.000000</td>\n",
       "      <td>32833.000000</td>\n",
       "      <td>32833.000000</td>\n",
       "    </tr>\n",
       "    <tr>\n",
       "      <th>mean</th>\n",
       "      <td>42.477081</td>\n",
       "      <td>0.654850</td>\n",
       "      <td>0.698619</td>\n",
       "      <td>5.374471</td>\n",
       "      <td>-6.719499</td>\n",
       "      <td>0.565711</td>\n",
       "      <td>0.107068</td>\n",
       "      <td>0.175334</td>\n",
       "      <td>0.084747</td>\n",
       "      <td>0.190176</td>\n",
       "      <td>0.510561</td>\n",
       "      <td>120.881132</td>\n",
       "      <td>225799.811622</td>\n",
       "    </tr>\n",
       "    <tr>\n",
       "      <th>std</th>\n",
       "      <td>24.984074</td>\n",
       "      <td>0.145085</td>\n",
       "      <td>0.180910</td>\n",
       "      <td>3.611657</td>\n",
       "      <td>2.988436</td>\n",
       "      <td>0.495671</td>\n",
       "      <td>0.101314</td>\n",
       "      <td>0.219633</td>\n",
       "      <td>0.224230</td>\n",
       "      <td>0.154317</td>\n",
       "      <td>0.233146</td>\n",
       "      <td>26.903624</td>\n",
       "      <td>59834.006182</td>\n",
       "    </tr>\n",
       "    <tr>\n",
       "      <th>min</th>\n",
       "      <td>0.000000</td>\n",
       "      <td>0.000000</td>\n",
       "      <td>0.000175</td>\n",
       "      <td>0.000000</td>\n",
       "      <td>-46.448000</td>\n",
       "      <td>0.000000</td>\n",
       "      <td>0.000000</td>\n",
       "      <td>0.000000</td>\n",
       "      <td>0.000000</td>\n",
       "      <td>0.000000</td>\n",
       "      <td>0.000000</td>\n",
       "      <td>0.000000</td>\n",
       "      <td>4000.000000</td>\n",
       "    </tr>\n",
       "    <tr>\n",
       "      <th>25%</th>\n",
       "      <td>24.000000</td>\n",
       "      <td>0.563000</td>\n",
       "      <td>0.581000</td>\n",
       "      <td>2.000000</td>\n",
       "      <td>-8.171000</td>\n",
       "      <td>0.000000</td>\n",
       "      <td>0.041000</td>\n",
       "      <td>0.015100</td>\n",
       "      <td>0.000000</td>\n",
       "      <td>0.092700</td>\n",
       "      <td>0.331000</td>\n",
       "      <td>99.960000</td>\n",
       "      <td>187819.000000</td>\n",
       "    </tr>\n",
       "    <tr>\n",
       "      <th>50%</th>\n",
       "      <td>45.000000</td>\n",
       "      <td>0.672000</td>\n",
       "      <td>0.721000</td>\n",
       "      <td>6.000000</td>\n",
       "      <td>-6.166000</td>\n",
       "      <td>1.000000</td>\n",
       "      <td>0.062500</td>\n",
       "      <td>0.080400</td>\n",
       "      <td>0.000016</td>\n",
       "      <td>0.127000</td>\n",
       "      <td>0.512000</td>\n",
       "      <td>121.984000</td>\n",
       "      <td>216000.000000</td>\n",
       "    </tr>\n",
       "    <tr>\n",
       "      <th>75%</th>\n",
       "      <td>62.000000</td>\n",
       "      <td>0.761000</td>\n",
       "      <td>0.840000</td>\n",
       "      <td>9.000000</td>\n",
       "      <td>-4.645000</td>\n",
       "      <td>1.000000</td>\n",
       "      <td>0.132000</td>\n",
       "      <td>0.255000</td>\n",
       "      <td>0.004830</td>\n",
       "      <td>0.248000</td>\n",
       "      <td>0.693000</td>\n",
       "      <td>133.918000</td>\n",
       "      <td>253585.000000</td>\n",
       "    </tr>\n",
       "    <tr>\n",
       "      <th>max</th>\n",
       "      <td>100.000000</td>\n",
       "      <td>0.983000</td>\n",
       "      <td>1.000000</td>\n",
       "      <td>11.000000</td>\n",
       "      <td>1.275000</td>\n",
       "      <td>1.000000</td>\n",
       "      <td>0.918000</td>\n",
       "      <td>0.994000</td>\n",
       "      <td>0.994000</td>\n",
       "      <td>0.996000</td>\n",
       "      <td>0.991000</td>\n",
       "      <td>239.440000</td>\n",
       "      <td>517810.000000</td>\n",
       "    </tr>\n",
       "  </tbody>\n",
       "</table>\n",
       "</div>"
      ],
      "text/plain": [
       "       track_popularity  danceability        energy           key  \\\n",
       "count      32833.000000  32833.000000  32833.000000  32833.000000   \n",
       "mean          42.477081      0.654850      0.698619      5.374471   \n",
       "std           24.984074      0.145085      0.180910      3.611657   \n",
       "min            0.000000      0.000000      0.000175      0.000000   \n",
       "25%           24.000000      0.563000      0.581000      2.000000   \n",
       "50%           45.000000      0.672000      0.721000      6.000000   \n",
       "75%           62.000000      0.761000      0.840000      9.000000   \n",
       "max          100.000000      0.983000      1.000000     11.000000   \n",
       "\n",
       "           loudness          mode   speechiness  acousticness  \\\n",
       "count  32833.000000  32833.000000  32833.000000  32833.000000   \n",
       "mean      -6.719499      0.565711      0.107068      0.175334   \n",
       "std        2.988436      0.495671      0.101314      0.219633   \n",
       "min      -46.448000      0.000000      0.000000      0.000000   \n",
       "25%       -8.171000      0.000000      0.041000      0.015100   \n",
       "50%       -6.166000      1.000000      0.062500      0.080400   \n",
       "75%       -4.645000      1.000000      0.132000      0.255000   \n",
       "max        1.275000      1.000000      0.918000      0.994000   \n",
       "\n",
       "       instrumentalness      liveness       valence         tempo  \\\n",
       "count      32833.000000  32833.000000  32833.000000  32833.000000   \n",
       "mean           0.084747      0.190176      0.510561    120.881132   \n",
       "std            0.224230      0.154317      0.233146     26.903624   \n",
       "min            0.000000      0.000000      0.000000      0.000000   \n",
       "25%            0.000000      0.092700      0.331000     99.960000   \n",
       "50%            0.000016      0.127000      0.512000    121.984000   \n",
       "75%            0.004830      0.248000      0.693000    133.918000   \n",
       "max            0.994000      0.996000      0.991000    239.440000   \n",
       "\n",
       "         duration_ms  \n",
       "count   32833.000000  \n",
       "mean   225799.811622  \n",
       "std     59834.006182  \n",
       "min      4000.000000  \n",
       "25%    187819.000000  \n",
       "50%    216000.000000  \n",
       "75%    253585.000000  \n",
       "max    517810.000000  "
      ]
     },
     "execution_count": 18,
     "metadata": {},
     "output_type": "execute_result"
    }
   ],
   "source": [
    "df_general.describe()"
   ]
  },
  {
   "cell_type": "markdown",
   "metadata": {},
   "source": [
    "### Una pequeña aproximación\n",
    "\n",
    "- La media de la popularidad es del 42,48%. Su valor máximo es 100. Un 25% de las canciones del dataset tiene más de un 62 de popularidad.\n",
    "- El valor medio de la 'bailabilidad' es del 65. El valor máximo es de 98.\n",
    "- El nivel medio del valor energía de las canciones es prácticamente de 70. El 25% de las canciones tienen un valor superior a 84 de energía.\n",
    "- El 50% de las canciones tiene una duración de al menos 216000 milisegundos, lo que una duración de 3 minutos 36 segundos. Hay una canción que dura más de 8 minutos, lo que es un outlier."
   ]
  },
  {
   "cell_type": "markdown",
   "metadata": {},
   "source": [
    "Ahora vamos a observar las variables no numéricas incluidas en el dataset."
   ]
  },
  {
   "cell_type": "code",
   "execution_count": 19,
   "metadata": {},
   "outputs": [
    {
     "data": {
      "text/html": [
       "<div>\n",
       "<style scoped>\n",
       "    .dataframe tbody tr th:only-of-type {\n",
       "        vertical-align: middle;\n",
       "    }\n",
       "\n",
       "    .dataframe tbody tr th {\n",
       "        vertical-align: top;\n",
       "    }\n",
       "\n",
       "    .dataframe thead th {\n",
       "        text-align: right;\n",
       "    }\n",
       "</style>\n",
       "<table border=\"1\" class=\"dataframe\">\n",
       "  <thead>\n",
       "    <tr style=\"text-align: right;\">\n",
       "      <th></th>\n",
       "      <th>track_id</th>\n",
       "      <th>track_name</th>\n",
       "      <th>track_artist</th>\n",
       "      <th>track_album_id</th>\n",
       "      <th>track_album_name</th>\n",
       "      <th>track_album_release_date</th>\n",
       "      <th>playlist_genre</th>\n",
       "      <th>playlist_subgenre</th>\n",
       "    </tr>\n",
       "  </thead>\n",
       "  <tbody>\n",
       "    <tr>\n",
       "      <th>count</th>\n",
       "      <td>32833</td>\n",
       "      <td>32828</td>\n",
       "      <td>32828</td>\n",
       "      <td>32833</td>\n",
       "      <td>32828</td>\n",
       "      <td>32833</td>\n",
       "      <td>32833</td>\n",
       "      <td>32833</td>\n",
       "    </tr>\n",
       "    <tr>\n",
       "      <th>unique</th>\n",
       "      <td>28356</td>\n",
       "      <td>23449</td>\n",
       "      <td>10692</td>\n",
       "      <td>22545</td>\n",
       "      <td>19743</td>\n",
       "      <td>4530</td>\n",
       "      <td>6</td>\n",
       "      <td>24</td>\n",
       "    </tr>\n",
       "    <tr>\n",
       "      <th>top</th>\n",
       "      <td>7BKLCZ1jbUBVqRi2FVlTVw</td>\n",
       "      <td>Poison</td>\n",
       "      <td>Martin Garrix</td>\n",
       "      <td>5L1xcowSxwzFUSJzvyMp48</td>\n",
       "      <td>Greatest Hits</td>\n",
       "      <td>2020-01-10</td>\n",
       "      <td>edm</td>\n",
       "      <td>progressive electro house</td>\n",
       "    </tr>\n",
       "    <tr>\n",
       "      <th>freq</th>\n",
       "      <td>10</td>\n",
       "      <td>22</td>\n",
       "      <td>161</td>\n",
       "      <td>42</td>\n",
       "      <td>139</td>\n",
       "      <td>270</td>\n",
       "      <td>6043</td>\n",
       "      <td>1809</td>\n",
       "    </tr>\n",
       "  </tbody>\n",
       "</table>\n",
       "</div>"
      ],
      "text/plain": [
       "                      track_id track_name   track_artist  \\\n",
       "count                    32833      32828          32828   \n",
       "unique                   28356      23449          10692   \n",
       "top     7BKLCZ1jbUBVqRi2FVlTVw     Poison  Martin Garrix   \n",
       "freq                        10         22            161   \n",
       "\n",
       "                track_album_id track_album_name track_album_release_date  \\\n",
       "count                    32833            32828                    32833   \n",
       "unique                   22545            19743                     4530   \n",
       "top     5L1xcowSxwzFUSJzvyMp48    Greatest Hits               2020-01-10   \n",
       "freq                        42              139                      270   \n",
       "\n",
       "       playlist_genre          playlist_subgenre  \n",
       "count           32833                      32833  \n",
       "unique              6                         24  \n",
       "top               edm  progressive electro house  \n",
       "freq             6043                       1809  "
      ]
     },
     "execution_count": 19,
     "metadata": {},
     "output_type": "execute_result"
    }
   ],
   "source": [
    "df_general.describe(include=object)"
   ]
  },
  {
   "cell_type": "markdown",
   "metadata": {},
   "source": [
    "En esta salida observamos una cuestión a destacar. El conteo de track_id arroja 32833 resultados, mientras que valores únicos solo 28356. Esto implica que se están repitiendo valores de track_id para canciones diferentes, lo cual es un aspecto a destacar porque en teoría son valores únicos. La diferencia en el resto de variables puede tener sentido (track_album_id es común para un conjunto de track_id, track_name puede ser compartido para varias entradas). Veamos un poco más. Busquemos un valor de los 'no únicos' en `track_id`"
   ]
  },
  {
   "cell_type": "code",
   "execution_count": 20,
   "metadata": {},
   "outputs": [
    {
     "data": {
      "text/html": [
       "<div>\n",
       "<style scoped>\n",
       "    .dataframe tbody tr th:only-of-type {\n",
       "        vertical-align: middle;\n",
       "    }\n",
       "\n",
       "    .dataframe tbody tr th {\n",
       "        vertical-align: top;\n",
       "    }\n",
       "\n",
       "    .dataframe thead th {\n",
       "        text-align: right;\n",
       "    }\n",
       "</style>\n",
       "<table border=\"1\" class=\"dataframe\">\n",
       "  <thead>\n",
       "    <tr style=\"text-align: right;\">\n",
       "      <th></th>\n",
       "      <th>track_id</th>\n",
       "      <th>track_name</th>\n",
       "      <th>track_artist</th>\n",
       "      <th>track_popularity</th>\n",
       "      <th>track_album_id</th>\n",
       "      <th>track_album_name</th>\n",
       "      <th>track_album_release_date</th>\n",
       "      <th>playlist_genre</th>\n",
       "      <th>playlist_subgenre</th>\n",
       "      <th>danceability</th>\n",
       "      <th>...</th>\n",
       "      <th>key</th>\n",
       "      <th>loudness</th>\n",
       "      <th>mode</th>\n",
       "      <th>speechiness</th>\n",
       "      <th>acousticness</th>\n",
       "      <th>instrumentalness</th>\n",
       "      <th>liveness</th>\n",
       "      <th>valence</th>\n",
       "      <th>tempo</th>\n",
       "      <th>duration_ms</th>\n",
       "    </tr>\n",
       "  </thead>\n",
       "  <tbody>\n",
       "    <tr>\n",
       "      <th>133</th>\n",
       "      <td>7BKLCZ1jbUBVqRi2FVlTVw</td>\n",
       "      <td>Closer (feat. Halsey)</td>\n",
       "      <td>The Chainsmokers</td>\n",
       "      <td>85</td>\n",
       "      <td>0rSLgV8p5FzfnqlEk4GzxE</td>\n",
       "      <td>Closer (feat. Halsey)</td>\n",
       "      <td>2016-07-29</td>\n",
       "      <td>pop</td>\n",
       "      <td>dance pop</td>\n",
       "      <td>0.748</td>\n",
       "      <td>...</td>\n",
       "      <td>8</td>\n",
       "      <td>-5.599</td>\n",
       "      <td>1</td>\n",
       "      <td>0.0338</td>\n",
       "      <td>0.414</td>\n",
       "      <td>0.0</td>\n",
       "      <td>0.111</td>\n",
       "      <td>0.661</td>\n",
       "      <td>95.01</td>\n",
       "      <td>244960</td>\n",
       "    </tr>\n",
       "    <tr>\n",
       "      <th>1731</th>\n",
       "      <td>7BKLCZ1jbUBVqRi2FVlTVw</td>\n",
       "      <td>Closer (feat. Halsey)</td>\n",
       "      <td>The Chainsmokers</td>\n",
       "      <td>85</td>\n",
       "      <td>0rSLgV8p5FzfnqlEk4GzxE</td>\n",
       "      <td>Closer (feat. Halsey)</td>\n",
       "      <td>2016-07-29</td>\n",
       "      <td>pop</td>\n",
       "      <td>post-teen pop</td>\n",
       "      <td>0.748</td>\n",
       "      <td>...</td>\n",
       "      <td>8</td>\n",
       "      <td>-5.599</td>\n",
       "      <td>1</td>\n",
       "      <td>0.0338</td>\n",
       "      <td>0.414</td>\n",
       "      <td>0.0</td>\n",
       "      <td>0.111</td>\n",
       "      <td>0.661</td>\n",
       "      <td>95.01</td>\n",
       "      <td>244960</td>\n",
       "    </tr>\n",
       "    <tr>\n",
       "      <th>2478</th>\n",
       "      <td>7BKLCZ1jbUBVqRi2FVlTVw</td>\n",
       "      <td>Closer (feat. Halsey)</td>\n",
       "      <td>The Chainsmokers</td>\n",
       "      <td>85</td>\n",
       "      <td>0rSLgV8p5FzfnqlEk4GzxE</td>\n",
       "      <td>Closer (feat. Halsey)</td>\n",
       "      <td>2016-07-29</td>\n",
       "      <td>pop</td>\n",
       "      <td>electropop</td>\n",
       "      <td>0.748</td>\n",
       "      <td>...</td>\n",
       "      <td>8</td>\n",
       "      <td>-5.599</td>\n",
       "      <td>1</td>\n",
       "      <td>0.0338</td>\n",
       "      <td>0.414</td>\n",
       "      <td>0.0</td>\n",
       "      <td>0.111</td>\n",
       "      <td>0.661</td>\n",
       "      <td>95.01</td>\n",
       "      <td>244960</td>\n",
       "    </tr>\n",
       "    <tr>\n",
       "      <th>4535</th>\n",
       "      <td>7BKLCZ1jbUBVqRi2FVlTVw</td>\n",
       "      <td>Closer (feat. Halsey)</td>\n",
       "      <td>The Chainsmokers</td>\n",
       "      <td>85</td>\n",
       "      <td>0rSLgV8p5FzfnqlEk4GzxE</td>\n",
       "      <td>Closer (feat. Halsey)</td>\n",
       "      <td>2016-07-29</td>\n",
       "      <td>pop</td>\n",
       "      <td>indie poptimism</td>\n",
       "      <td>0.748</td>\n",
       "      <td>...</td>\n",
       "      <td>8</td>\n",
       "      <td>-5.599</td>\n",
       "      <td>1</td>\n",
       "      <td>0.0338</td>\n",
       "      <td>0.414</td>\n",
       "      <td>0.0</td>\n",
       "      <td>0.111</td>\n",
       "      <td>0.661</td>\n",
       "      <td>95.01</td>\n",
       "      <td>244960</td>\n",
       "    </tr>\n",
       "    <tr>\n",
       "      <th>7369</th>\n",
       "      <td>7BKLCZ1jbUBVqRi2FVlTVw</td>\n",
       "      <td>Closer (feat. Halsey)</td>\n",
       "      <td>The Chainsmokers</td>\n",
       "      <td>85</td>\n",
       "      <td>0rSLgV8p5FzfnqlEk4GzxE</td>\n",
       "      <td>Closer (feat. Halsey)</td>\n",
       "      <td>2016-07-29</td>\n",
       "      <td>rap</td>\n",
       "      <td>southern hip hop</td>\n",
       "      <td>0.748</td>\n",
       "      <td>...</td>\n",
       "      <td>8</td>\n",
       "      <td>-5.599</td>\n",
       "      <td>1</td>\n",
       "      <td>0.0338</td>\n",
       "      <td>0.414</td>\n",
       "      <td>0.0</td>\n",
       "      <td>0.111</td>\n",
       "      <td>0.661</td>\n",
       "      <td>95.01</td>\n",
       "      <td>244960</td>\n",
       "    </tr>\n",
       "    <tr>\n",
       "      <th>17467</th>\n",
       "      <td>7BKLCZ1jbUBVqRi2FVlTVw</td>\n",
       "      <td>Closer (feat. Halsey)</td>\n",
       "      <td>The Chainsmokers</td>\n",
       "      <td>85</td>\n",
       "      <td>0rSLgV8p5FzfnqlEk4GzxE</td>\n",
       "      <td>Closer (feat. Halsey)</td>\n",
       "      <td>2016-07-29</td>\n",
       "      <td>latin</td>\n",
       "      <td>tropical</td>\n",
       "      <td>0.748</td>\n",
       "      <td>...</td>\n",
       "      <td>8</td>\n",
       "      <td>-5.599</td>\n",
       "      <td>1</td>\n",
       "      <td>0.0338</td>\n",
       "      <td>0.414</td>\n",
       "      <td>0.0</td>\n",
       "      <td>0.111</td>\n",
       "      <td>0.661</td>\n",
       "      <td>95.01</td>\n",
       "      <td>244960</td>\n",
       "    </tr>\n",
       "    <tr>\n",
       "      <th>18358</th>\n",
       "      <td>7BKLCZ1jbUBVqRi2FVlTVw</td>\n",
       "      <td>Closer (feat. Halsey)</td>\n",
       "      <td>The Chainsmokers</td>\n",
       "      <td>85</td>\n",
       "      <td>0rSLgV8p5FzfnqlEk4GzxE</td>\n",
       "      <td>Closer (feat. Halsey)</td>\n",
       "      <td>2016-07-29</td>\n",
       "      <td>latin</td>\n",
       "      <td>latin pop</td>\n",
       "      <td>0.748</td>\n",
       "      <td>...</td>\n",
       "      <td>8</td>\n",
       "      <td>-5.599</td>\n",
       "      <td>1</td>\n",
       "      <td>0.0338</td>\n",
       "      <td>0.414</td>\n",
       "      <td>0.0</td>\n",
       "      <td>0.111</td>\n",
       "      <td>0.661</td>\n",
       "      <td>95.01</td>\n",
       "      <td>244960</td>\n",
       "    </tr>\n",
       "    <tr>\n",
       "      <th>19770</th>\n",
       "      <td>7BKLCZ1jbUBVqRi2FVlTVw</td>\n",
       "      <td>Closer (feat. Halsey)</td>\n",
       "      <td>The Chainsmokers</td>\n",
       "      <td>85</td>\n",
       "      <td>0rSLgV8p5FzfnqlEk4GzxE</td>\n",
       "      <td>Closer (feat. Halsey)</td>\n",
       "      <td>2016-07-29</td>\n",
       "      <td>latin</td>\n",
       "      <td>latin hip hop</td>\n",
       "      <td>0.748</td>\n",
       "      <td>...</td>\n",
       "      <td>8</td>\n",
       "      <td>-5.599</td>\n",
       "      <td>1</td>\n",
       "      <td>0.0338</td>\n",
       "      <td>0.414</td>\n",
       "      <td>0.0</td>\n",
       "      <td>0.111</td>\n",
       "      <td>0.661</td>\n",
       "      <td>95.01</td>\n",
       "      <td>244960</td>\n",
       "    </tr>\n",
       "    <tr>\n",
       "      <th>23784</th>\n",
       "      <td>7BKLCZ1jbUBVqRi2FVlTVw</td>\n",
       "      <td>Closer (feat. Halsey)</td>\n",
       "      <td>The Chainsmokers</td>\n",
       "      <td>85</td>\n",
       "      <td>0rSLgV8p5FzfnqlEk4GzxE</td>\n",
       "      <td>Closer (feat. Halsey)</td>\n",
       "      <td>2016-07-29</td>\n",
       "      <td>r&amp;b</td>\n",
       "      <td>hip pop</td>\n",
       "      <td>0.748</td>\n",
       "      <td>...</td>\n",
       "      <td>8</td>\n",
       "      <td>-5.599</td>\n",
       "      <td>1</td>\n",
       "      <td>0.0338</td>\n",
       "      <td>0.414</td>\n",
       "      <td>0.0</td>\n",
       "      <td>0.111</td>\n",
       "      <td>0.661</td>\n",
       "      <td>95.01</td>\n",
       "      <td>244960</td>\n",
       "    </tr>\n",
       "    <tr>\n",
       "      <th>30629</th>\n",
       "      <td>7BKLCZ1jbUBVqRi2FVlTVw</td>\n",
       "      <td>Closer (feat. Halsey)</td>\n",
       "      <td>The Chainsmokers</td>\n",
       "      <td>85</td>\n",
       "      <td>0rSLgV8p5FzfnqlEk4GzxE</td>\n",
       "      <td>Closer (feat. Halsey)</td>\n",
       "      <td>2016-07-29</td>\n",
       "      <td>edm</td>\n",
       "      <td>pop edm</td>\n",
       "      <td>0.748</td>\n",
       "      <td>...</td>\n",
       "      <td>8</td>\n",
       "      <td>-5.599</td>\n",
       "      <td>1</td>\n",
       "      <td>0.0338</td>\n",
       "      <td>0.414</td>\n",
       "      <td>0.0</td>\n",
       "      <td>0.111</td>\n",
       "      <td>0.661</td>\n",
       "      <td>95.01</td>\n",
       "      <td>244960</td>\n",
       "    </tr>\n",
       "  </tbody>\n",
       "</table>\n",
       "<p>10 rows × 21 columns</p>\n",
       "</div>"
      ],
      "text/plain": [
       "                     track_id             track_name      track_artist  \\\n",
       "133    7BKLCZ1jbUBVqRi2FVlTVw  Closer (feat. Halsey)  The Chainsmokers   \n",
       "1731   7BKLCZ1jbUBVqRi2FVlTVw  Closer (feat. Halsey)  The Chainsmokers   \n",
       "2478   7BKLCZ1jbUBVqRi2FVlTVw  Closer (feat. Halsey)  The Chainsmokers   \n",
       "4535   7BKLCZ1jbUBVqRi2FVlTVw  Closer (feat. Halsey)  The Chainsmokers   \n",
       "7369   7BKLCZ1jbUBVqRi2FVlTVw  Closer (feat. Halsey)  The Chainsmokers   \n",
       "17467  7BKLCZ1jbUBVqRi2FVlTVw  Closer (feat. Halsey)  The Chainsmokers   \n",
       "18358  7BKLCZ1jbUBVqRi2FVlTVw  Closer (feat. Halsey)  The Chainsmokers   \n",
       "19770  7BKLCZ1jbUBVqRi2FVlTVw  Closer (feat. Halsey)  The Chainsmokers   \n",
       "23784  7BKLCZ1jbUBVqRi2FVlTVw  Closer (feat. Halsey)  The Chainsmokers   \n",
       "30629  7BKLCZ1jbUBVqRi2FVlTVw  Closer (feat. Halsey)  The Chainsmokers   \n",
       "\n",
       "       track_popularity          track_album_id       track_album_name  \\\n",
       "133                  85  0rSLgV8p5FzfnqlEk4GzxE  Closer (feat. Halsey)   \n",
       "1731                 85  0rSLgV8p5FzfnqlEk4GzxE  Closer (feat. Halsey)   \n",
       "2478                 85  0rSLgV8p5FzfnqlEk4GzxE  Closer (feat. Halsey)   \n",
       "4535                 85  0rSLgV8p5FzfnqlEk4GzxE  Closer (feat. Halsey)   \n",
       "7369                 85  0rSLgV8p5FzfnqlEk4GzxE  Closer (feat. Halsey)   \n",
       "17467                85  0rSLgV8p5FzfnqlEk4GzxE  Closer (feat. Halsey)   \n",
       "18358                85  0rSLgV8p5FzfnqlEk4GzxE  Closer (feat. Halsey)   \n",
       "19770                85  0rSLgV8p5FzfnqlEk4GzxE  Closer (feat. Halsey)   \n",
       "23784                85  0rSLgV8p5FzfnqlEk4GzxE  Closer (feat. Halsey)   \n",
       "30629                85  0rSLgV8p5FzfnqlEk4GzxE  Closer (feat. Halsey)   \n",
       "\n",
       "      track_album_release_date playlist_genre playlist_subgenre  danceability  \\\n",
       "133                 2016-07-29            pop         dance pop         0.748   \n",
       "1731                2016-07-29            pop     post-teen pop         0.748   \n",
       "2478                2016-07-29            pop        electropop         0.748   \n",
       "4535                2016-07-29            pop   indie poptimism         0.748   \n",
       "7369                2016-07-29            rap  southern hip hop         0.748   \n",
       "17467               2016-07-29          latin          tropical         0.748   \n",
       "18358               2016-07-29          latin         latin pop         0.748   \n",
       "19770               2016-07-29          latin     latin hip hop         0.748   \n",
       "23784               2016-07-29            r&b           hip pop         0.748   \n",
       "30629               2016-07-29            edm           pop edm         0.748   \n",
       "\n",
       "       ...  key  loudness  mode  speechiness  acousticness  instrumentalness  \\\n",
       "133    ...    8    -5.599     1       0.0338         0.414               0.0   \n",
       "1731   ...    8    -5.599     1       0.0338         0.414               0.0   \n",
       "2478   ...    8    -5.599     1       0.0338         0.414               0.0   \n",
       "4535   ...    8    -5.599     1       0.0338         0.414               0.0   \n",
       "7369   ...    8    -5.599     1       0.0338         0.414               0.0   \n",
       "17467  ...    8    -5.599     1       0.0338         0.414               0.0   \n",
       "18358  ...    8    -5.599     1       0.0338         0.414               0.0   \n",
       "19770  ...    8    -5.599     1       0.0338         0.414               0.0   \n",
       "23784  ...    8    -5.599     1       0.0338         0.414               0.0   \n",
       "30629  ...    8    -5.599     1       0.0338         0.414               0.0   \n",
       "\n",
       "       liveness  valence  tempo  duration_ms  \n",
       "133       0.111    0.661  95.01       244960  \n",
       "1731      0.111    0.661  95.01       244960  \n",
       "2478      0.111    0.661  95.01       244960  \n",
       "4535      0.111    0.661  95.01       244960  \n",
       "7369      0.111    0.661  95.01       244960  \n",
       "17467     0.111    0.661  95.01       244960  \n",
       "18358     0.111    0.661  95.01       244960  \n",
       "19770     0.111    0.661  95.01       244960  \n",
       "23784     0.111    0.661  95.01       244960  \n",
       "30629     0.111    0.661  95.01       244960  \n",
       "\n",
       "[10 rows x 21 columns]"
      ]
     },
     "execution_count": 20,
     "metadata": {},
     "output_type": "execute_result"
    }
   ],
   "source": [
    "df_general[df_general['track_id'] == '7BKLCZ1jbUBVqRi2FVlTVw']"
   ]
  },
  {
   "cell_type": "markdown",
   "metadata": {},
   "source": [
    "Este `track_id` debería ser único, pero existe 10 veces en el Dataframe. La diferencia viene por la categorización de las columnas `playlist_subgenre` y  `playlist_genre` que al ser columnas introducidas por el usuario tienen diferente categorización. Para unos la canción Closer pertenece a pop, para otros a latin, otros para edm...y lo mismo ocurre para el subgénero. "
   ]
  },
  {
   "cell_type": "markdown",
   "metadata": {},
   "source": [
    "Para solventar este problema, podemos realizar varias cosas:\n",
    "\n",
    "- Borrar los duplicados y quedarnos con el primer valor.\n",
    "- Borrar los duplicados y quedarnos con el último valor.\n",
    "- Realizar una función que encuentre los duplicados y calcule la moda del valor para imputarlo como el 'más repetido'.\n"
   ]
  },
  {
   "cell_type": "code",
   "execution_count": 21,
   "metadata": {},
   "outputs": [],
   "source": [
    "def imput (x):\n",
    "    if df_general['playlist_genre'].duplicated() is True:\n",
    "        df_general['playlist_genre'].mode"
   ]
  },
  {
   "cell_type": "markdown",
   "metadata": {},
   "source": [
    "Procedemos a borrar los datos y nos quedaremos con el primer valor de los repetidos."
   ]
  },
  {
   "cell_type": "code",
   "execution_count": 22,
   "metadata": {},
   "outputs": [],
   "source": [
    "df_general.drop_duplicates(subset=['track_id','track_name'], inplace=True)"
   ]
  },
  {
   "cell_type": "code",
   "execution_count": 23,
   "metadata": {},
   "outputs": [
    {
     "data": {
      "text/html": [
       "<div>\n",
       "<style scoped>\n",
       "    .dataframe tbody tr th:only-of-type {\n",
       "        vertical-align: middle;\n",
       "    }\n",
       "\n",
       "    .dataframe tbody tr th {\n",
       "        vertical-align: top;\n",
       "    }\n",
       "\n",
       "    .dataframe thead th {\n",
       "        text-align: right;\n",
       "    }\n",
       "</style>\n",
       "<table border=\"1\" class=\"dataframe\">\n",
       "  <thead>\n",
       "    <tr style=\"text-align: right;\">\n",
       "      <th></th>\n",
       "      <th>track_id</th>\n",
       "      <th>track_name</th>\n",
       "      <th>track_artist</th>\n",
       "      <th>track_popularity</th>\n",
       "      <th>track_album_id</th>\n",
       "      <th>track_album_name</th>\n",
       "      <th>track_album_release_date</th>\n",
       "      <th>playlist_genre</th>\n",
       "      <th>playlist_subgenre</th>\n",
       "      <th>danceability</th>\n",
       "      <th>...</th>\n",
       "      <th>key</th>\n",
       "      <th>loudness</th>\n",
       "      <th>mode</th>\n",
       "      <th>speechiness</th>\n",
       "      <th>acousticness</th>\n",
       "      <th>instrumentalness</th>\n",
       "      <th>liveness</th>\n",
       "      <th>valence</th>\n",
       "      <th>tempo</th>\n",
       "      <th>duration_ms</th>\n",
       "    </tr>\n",
       "  </thead>\n",
       "  <tbody>\n",
       "    <tr>\n",
       "      <th>133</th>\n",
       "      <td>7BKLCZ1jbUBVqRi2FVlTVw</td>\n",
       "      <td>Closer (feat. Halsey)</td>\n",
       "      <td>The Chainsmokers</td>\n",
       "      <td>85</td>\n",
       "      <td>0rSLgV8p5FzfnqlEk4GzxE</td>\n",
       "      <td>Closer (feat. Halsey)</td>\n",
       "      <td>2016-07-29</td>\n",
       "      <td>pop</td>\n",
       "      <td>dance pop</td>\n",
       "      <td>0.748</td>\n",
       "      <td>...</td>\n",
       "      <td>8</td>\n",
       "      <td>-5.599</td>\n",
       "      <td>1</td>\n",
       "      <td>0.0338</td>\n",
       "      <td>0.414</td>\n",
       "      <td>0.0</td>\n",
       "      <td>0.111</td>\n",
       "      <td>0.661</td>\n",
       "      <td>95.01</td>\n",
       "      <td>244960</td>\n",
       "    </tr>\n",
       "  </tbody>\n",
       "</table>\n",
       "<p>1 rows × 21 columns</p>\n",
       "</div>"
      ],
      "text/plain": [
       "                   track_id             track_name      track_artist  \\\n",
       "133  7BKLCZ1jbUBVqRi2FVlTVw  Closer (feat. Halsey)  The Chainsmokers   \n",
       "\n",
       "     track_popularity          track_album_id       track_album_name  \\\n",
       "133                85  0rSLgV8p5FzfnqlEk4GzxE  Closer (feat. Halsey)   \n",
       "\n",
       "    track_album_release_date playlist_genre playlist_subgenre  danceability  \\\n",
       "133               2016-07-29            pop         dance pop         0.748   \n",
       "\n",
       "     ...  key  loudness  mode  speechiness  acousticness  instrumentalness  \\\n",
       "133  ...    8    -5.599     1       0.0338         0.414               0.0   \n",
       "\n",
       "     liveness  valence  tempo  duration_ms  \n",
       "133     0.111    0.661  95.01       244960  \n",
       "\n",
       "[1 rows x 21 columns]"
      ]
     },
     "execution_count": 23,
     "metadata": {},
     "output_type": "execute_result"
    }
   ],
   "source": [
    "df_general[df_general['track_id'] == '7BKLCZ1jbUBVqRi2FVlTVw']"
   ]
  },
  {
   "cell_type": "code",
   "execution_count": 24,
   "metadata": {},
   "outputs": [
    {
     "data": {
      "text/html": [
       "<div>\n",
       "<style scoped>\n",
       "    .dataframe tbody tr th:only-of-type {\n",
       "        vertical-align: middle;\n",
       "    }\n",
       "\n",
       "    .dataframe tbody tr th {\n",
       "        vertical-align: top;\n",
       "    }\n",
       "\n",
       "    .dataframe thead th {\n",
       "        text-align: right;\n",
       "    }\n",
       "</style>\n",
       "<table border=\"1\" class=\"dataframe\">\n",
       "  <thead>\n",
       "    <tr style=\"text-align: right;\">\n",
       "      <th></th>\n",
       "      <th>track_id</th>\n",
       "      <th>track_name</th>\n",
       "      <th>track_artist</th>\n",
       "      <th>track_album_id</th>\n",
       "      <th>track_album_name</th>\n",
       "      <th>track_album_release_date</th>\n",
       "      <th>playlist_genre</th>\n",
       "      <th>playlist_subgenre</th>\n",
       "    </tr>\n",
       "  </thead>\n",
       "  <tbody>\n",
       "    <tr>\n",
       "      <th>count</th>\n",
       "      <td>28356</td>\n",
       "      <td>28352</td>\n",
       "      <td>28352</td>\n",
       "      <td>28356</td>\n",
       "      <td>28352</td>\n",
       "      <td>28356</td>\n",
       "      <td>28356</td>\n",
       "      <td>28356</td>\n",
       "    </tr>\n",
       "    <tr>\n",
       "      <th>unique</th>\n",
       "      <td>28356</td>\n",
       "      <td>23449</td>\n",
       "      <td>10692</td>\n",
       "      <td>22545</td>\n",
       "      <td>19743</td>\n",
       "      <td>4530</td>\n",
       "      <td>6</td>\n",
       "      <td>24</td>\n",
       "    </tr>\n",
       "    <tr>\n",
       "      <th>top</th>\n",
       "      <td>6f807x0ima9a1j3VPbc7VN</td>\n",
       "      <td>Breathe</td>\n",
       "      <td>Queen</td>\n",
       "      <td>5L1xcowSxwzFUSJzvyMp48</td>\n",
       "      <td>Greatest Hits</td>\n",
       "      <td>2020-01-10</td>\n",
       "      <td>rap</td>\n",
       "      <td>southern hip hop</td>\n",
       "    </tr>\n",
       "    <tr>\n",
       "      <th>freq</th>\n",
       "      <td>1</td>\n",
       "      <td>18</td>\n",
       "      <td>130</td>\n",
       "      <td>42</td>\n",
       "      <td>135</td>\n",
       "      <td>201</td>\n",
       "      <td>5401</td>\n",
       "      <td>1583</td>\n",
       "    </tr>\n",
       "  </tbody>\n",
       "</table>\n",
       "</div>"
      ],
      "text/plain": [
       "                      track_id track_name track_artist  \\\n",
       "count                    28356      28352        28352   \n",
       "unique                   28356      23449        10692   \n",
       "top     6f807x0ima9a1j3VPbc7VN    Breathe        Queen   \n",
       "freq                         1         18          130   \n",
       "\n",
       "                track_album_id track_album_name track_album_release_date  \\\n",
       "count                    28356            28352                    28356   \n",
       "unique                   22545            19743                     4530   \n",
       "top     5L1xcowSxwzFUSJzvyMp48    Greatest Hits               2020-01-10   \n",
       "freq                        42              135                      201   \n",
       "\n",
       "       playlist_genre playlist_subgenre  \n",
       "count           28356             28356  \n",
       "unique              6                24  \n",
       "top               rap  southern hip hop  \n",
       "freq             5401              1583  "
      ]
     },
     "execution_count": 24,
     "metadata": {},
     "output_type": "execute_result"
    }
   ],
   "source": [
    "df_general.describe(include=object)"
   ]
  },
  {
   "cell_type": "code",
   "execution_count": 25,
   "metadata": {},
   "outputs": [
    {
     "data": {
      "text/plain": [
       "0        False\n",
       "1        False\n",
       "2        False\n",
       "3        False\n",
       "4        False\n",
       "         ...  \n",
       "32828    False\n",
       "32829    False\n",
       "32830    False\n",
       "32831    False\n",
       "32832    False\n",
       "Name: track_id, Length: 28356, dtype: bool"
      ]
     },
     "execution_count": 25,
     "metadata": {},
     "output_type": "execute_result"
    }
   ],
   "source": [
    "df_general['track_id'].duplicated()"
   ]
  },
  {
   "cell_type": "markdown",
   "metadata": {},
   "source": [
    "### 5.2 Preparación del dataset.\n",
    "    \n",
    "    5.2.1 Identificación y manejo de valores nulos (NaN)\n",
    "    5.2.2 Optimización del tipo de dato.\n",
    "    5.2.3 Control de valores duplicados."
   ]
  },
  {
   "cell_type": "markdown",
   "metadata": {},
   "source": [
    "### 5.2.1 Identificando los valores nulos: "
   ]
  },
  {
   "cell_type": "code",
   "execution_count": 26,
   "metadata": {},
   "outputs": [
    {
     "data": {
      "text/plain": [
       "track_artist                4\n",
       "track_album_name            4\n",
       "track_name                  4\n",
       "track_id                    0\n",
       "loudness                    0\n",
       "tempo                       0\n",
       "valence                     0\n",
       "liveness                    0\n",
       "instrumentalness            0\n",
       "acousticness                0\n",
       "speechiness                 0\n",
       "mode                        0\n",
       "energy                      0\n",
       "key                         0\n",
       "danceability                0\n",
       "playlist_subgenre           0\n",
       "playlist_genre              0\n",
       "track_album_release_date    0\n",
       "track_album_id              0\n",
       "track_popularity            0\n",
       "duration_ms                 0\n",
       "dtype: int64"
      ]
     },
     "execution_count": 26,
     "metadata": {},
     "output_type": "execute_result"
    }
   ],
   "source": [
    "df_general.isna().sum().sort_values(ascending=False)"
   ]
  },
  {
   "cell_type": "code",
   "execution_count": 27,
   "metadata": {},
   "outputs": [
    {
     "data": {
      "text/html": [
       "<div>\n",
       "<style scoped>\n",
       "    .dataframe tbody tr th:only-of-type {\n",
       "        vertical-align: middle;\n",
       "    }\n",
       "\n",
       "    .dataframe tbody tr th {\n",
       "        vertical-align: top;\n",
       "    }\n",
       "\n",
       "    .dataframe thead th {\n",
       "        text-align: right;\n",
       "    }\n",
       "</style>\n",
       "<table border=\"1\" class=\"dataframe\">\n",
       "  <thead>\n",
       "    <tr style=\"text-align: right;\">\n",
       "      <th></th>\n",
       "      <th>track_id</th>\n",
       "      <th>track_name</th>\n",
       "      <th>track_artist</th>\n",
       "      <th>track_popularity</th>\n",
       "      <th>track_album_id</th>\n",
       "      <th>track_album_name</th>\n",
       "      <th>track_album_release_date</th>\n",
       "      <th>playlist_genre</th>\n",
       "      <th>playlist_subgenre</th>\n",
       "      <th>danceability</th>\n",
       "      <th>...</th>\n",
       "      <th>key</th>\n",
       "      <th>loudness</th>\n",
       "      <th>mode</th>\n",
       "      <th>speechiness</th>\n",
       "      <th>acousticness</th>\n",
       "      <th>instrumentalness</th>\n",
       "      <th>liveness</th>\n",
       "      <th>valence</th>\n",
       "      <th>tempo</th>\n",
       "      <th>duration_ms</th>\n",
       "    </tr>\n",
       "  </thead>\n",
       "  <tbody>\n",
       "    <tr>\n",
       "      <th>8151</th>\n",
       "      <td>69gRFGOWY9OMpFJgFol1u0</td>\n",
       "      <td>NaN</td>\n",
       "      <td>NaN</td>\n",
       "      <td>0</td>\n",
       "      <td>717UG2du6utFe7CdmpuUe3</td>\n",
       "      <td>NaN</td>\n",
       "      <td>2012-01-05</td>\n",
       "      <td>rap</td>\n",
       "      <td>southern hip hop</td>\n",
       "      <td>0.714</td>\n",
       "      <td>...</td>\n",
       "      <td>6</td>\n",
       "      <td>-7.635</td>\n",
       "      <td>1</td>\n",
       "      <td>0.1760</td>\n",
       "      <td>0.0410</td>\n",
       "      <td>0.00000</td>\n",
       "      <td>0.1160</td>\n",
       "      <td>0.649</td>\n",
       "      <td>95.999</td>\n",
       "      <td>282707</td>\n",
       "    </tr>\n",
       "    <tr>\n",
       "      <th>9282</th>\n",
       "      <td>5cjecvX0CmC9gK0Laf5EMQ</td>\n",
       "      <td>NaN</td>\n",
       "      <td>NaN</td>\n",
       "      <td>0</td>\n",
       "      <td>3luHJEPw434tvNbme3SP8M</td>\n",
       "      <td>NaN</td>\n",
       "      <td>2017-12-01</td>\n",
       "      <td>rap</td>\n",
       "      <td>gangster rap</td>\n",
       "      <td>0.678</td>\n",
       "      <td>...</td>\n",
       "      <td>11</td>\n",
       "      <td>-5.364</td>\n",
       "      <td>0</td>\n",
       "      <td>0.3190</td>\n",
       "      <td>0.0534</td>\n",
       "      <td>0.00000</td>\n",
       "      <td>0.5530</td>\n",
       "      <td>0.191</td>\n",
       "      <td>146.153</td>\n",
       "      <td>202235</td>\n",
       "    </tr>\n",
       "    <tr>\n",
       "      <th>9283</th>\n",
       "      <td>5TTzhRSWQS4Yu8xTgAuq6D</td>\n",
       "      <td>NaN</td>\n",
       "      <td>NaN</td>\n",
       "      <td>0</td>\n",
       "      <td>3luHJEPw434tvNbme3SP8M</td>\n",
       "      <td>NaN</td>\n",
       "      <td>2017-12-01</td>\n",
       "      <td>rap</td>\n",
       "      <td>gangster rap</td>\n",
       "      <td>0.465</td>\n",
       "      <td>...</td>\n",
       "      <td>10</td>\n",
       "      <td>-5.907</td>\n",
       "      <td>0</td>\n",
       "      <td>0.3070</td>\n",
       "      <td>0.0963</td>\n",
       "      <td>0.00000</td>\n",
       "      <td>0.0888</td>\n",
       "      <td>0.505</td>\n",
       "      <td>86.839</td>\n",
       "      <td>206465</td>\n",
       "    </tr>\n",
       "    <tr>\n",
       "      <th>19568</th>\n",
       "      <td>3VKFip3OdAvv4OfNTgFWeQ</td>\n",
       "      <td>NaN</td>\n",
       "      <td>NaN</td>\n",
       "      <td>0</td>\n",
       "      <td>717UG2du6utFe7CdmpuUe3</td>\n",
       "      <td>NaN</td>\n",
       "      <td>2012-01-05</td>\n",
       "      <td>latin</td>\n",
       "      <td>reggaeton</td>\n",
       "      <td>0.675</td>\n",
       "      <td>...</td>\n",
       "      <td>11</td>\n",
       "      <td>-6.075</td>\n",
       "      <td>0</td>\n",
       "      <td>0.0366</td>\n",
       "      <td>0.0606</td>\n",
       "      <td>0.00653</td>\n",
       "      <td>0.1030</td>\n",
       "      <td>0.726</td>\n",
       "      <td>97.017</td>\n",
       "      <td>252773</td>\n",
       "    </tr>\n",
       "  </tbody>\n",
       "</table>\n",
       "<p>4 rows × 21 columns</p>\n",
       "</div>"
      ],
      "text/plain": [
       "                     track_id track_name track_artist  track_popularity  \\\n",
       "8151   69gRFGOWY9OMpFJgFol1u0        NaN          NaN                 0   \n",
       "9282   5cjecvX0CmC9gK0Laf5EMQ        NaN          NaN                 0   \n",
       "9283   5TTzhRSWQS4Yu8xTgAuq6D        NaN          NaN                 0   \n",
       "19568  3VKFip3OdAvv4OfNTgFWeQ        NaN          NaN                 0   \n",
       "\n",
       "               track_album_id track_album_name track_album_release_date  \\\n",
       "8151   717UG2du6utFe7CdmpuUe3              NaN               2012-01-05   \n",
       "9282   3luHJEPw434tvNbme3SP8M              NaN               2017-12-01   \n",
       "9283   3luHJEPw434tvNbme3SP8M              NaN               2017-12-01   \n",
       "19568  717UG2du6utFe7CdmpuUe3              NaN               2012-01-05   \n",
       "\n",
       "      playlist_genre playlist_subgenre  danceability  ...  key  loudness  \\\n",
       "8151             rap  southern hip hop         0.714  ...    6    -7.635   \n",
       "9282             rap      gangster rap         0.678  ...   11    -5.364   \n",
       "9283             rap      gangster rap         0.465  ...   10    -5.907   \n",
       "19568          latin         reggaeton         0.675  ...   11    -6.075   \n",
       "\n",
       "       mode  speechiness  acousticness  instrumentalness  liveness  valence  \\\n",
       "8151      1       0.1760        0.0410           0.00000    0.1160    0.649   \n",
       "9282      0       0.3190        0.0534           0.00000    0.5530    0.191   \n",
       "9283      0       0.3070        0.0963           0.00000    0.0888    0.505   \n",
       "19568     0       0.0366        0.0606           0.00653    0.1030    0.726   \n",
       "\n",
       "         tempo  duration_ms  \n",
       "8151    95.999       282707  \n",
       "9282   146.153       202235  \n",
       "9283    86.839       206465  \n",
       "19568   97.017       252773  \n",
       "\n",
       "[4 rows x 21 columns]"
      ]
     },
     "execution_count": 27,
     "metadata": {},
     "output_type": "execute_result"
    }
   ],
   "source": [
    "filas_nulos = df_general.isnull().any(axis=1)\n",
    "\n",
    "df_nulos = df_general[filas_nulos]\n",
    "df_general\n",
    "df_nulos\n"
   ]
  },
  {
   "cell_type": "markdown",
   "metadata": {},
   "source": [
    "Observamos que las filas con valores nulos ocurren en columnas relevantes como `track_name`, `track_album_name`, por lo que será imposible su imputación con otros valores. "
   ]
  },
  {
   "cell_type": "markdown",
   "metadata": {},
   "source": [
    "Veamos ahora la concentración de los valores nulos, esto es, analizar si coinciden los nulos de las diferentes columnas en el mismo registro de filas o si, por el contrario, existe un solo valor nulo único NaN por cada registro de fila.\n",
    "\n",
    "En el primer caso, al estar concentrados, el número de registros 'afectados' será bajo y el dataset no perdería sentido.\n",
    "En el segundo caso, al estar dispersos, deberemos analizar la afección de los valores nulos al dataset para estudiar posteriormente una posible imputación."
   ]
  },
  {
   "cell_type": "markdown",
   "metadata": {},
   "source": [
    "Solo 5 filas incluyen valores nulos, están muy concentrados en el dataset. Esta cifra respecto al conjunto total de datos es muy pequeña, por lo que no afectará significativamente a la proporción de la muestra. En cifras, esta proporción es de 5/32833 = 0,015%\n"
   ]
  },
  {
   "cell_type": "code",
   "execution_count": 28,
   "metadata": {},
   "outputs": [
    {
     "data": {
      "text/plain": [
       "0.015228581000822344"
      ]
     },
     "execution_count": 28,
     "metadata": {},
     "output_type": "execute_result"
    }
   ],
   "source": [
    "(5/32833) * 100"
   ]
  },
  {
   "cell_type": "markdown",
   "metadata": {},
   "source": [
    "Procedemos a localizar y eliminar dichos registros con el método `dropna` sobre el DataFrame general `df_general` seteando `inplace=True` para que elimine esos valores del dataset original."
   ]
  },
  {
   "cell_type": "code",
   "execution_count": 29,
   "metadata": {},
   "outputs": [],
   "source": [
    "df_general.dropna(inplace=True)\n"
   ]
  },
  {
   "cell_type": "code",
   "execution_count": 30,
   "metadata": {},
   "outputs": [
    {
     "data": {
      "text/plain": [
       "(28352, 21)"
      ]
     },
     "execution_count": 30,
     "metadata": {},
     "output_type": "execute_result"
    }
   ],
   "source": [
    "df_general.shape"
   ]
  },
  {
   "cell_type": "markdown",
   "metadata": {},
   "source": [
    "Ahora tenemos el `DataFrame` limpio de valores nulos, por lo que estudiaremos en profundidad la cardinalidad y la tipología del dato más óptima para cada columna. Para ello:"
   ]
  },
  {
   "cell_type": "code",
   "execution_count": 31,
   "metadata": {},
   "outputs": [
    {
     "data": {
      "text/html": [
       "<div>\n",
       "<style scoped>\n",
       "    .dataframe tbody tr th:only-of-type {\n",
       "        vertical-align: middle;\n",
       "    }\n",
       "\n",
       "    .dataframe tbody tr th {\n",
       "        vertical-align: top;\n",
       "    }\n",
       "\n",
       "    .dataframe thead th {\n",
       "        text-align: right;\n",
       "    }\n",
       "</style>\n",
       "<table border=\"1\" class=\"dataframe\">\n",
       "  <thead>\n",
       "    <tr style=\"text-align: right;\">\n",
       "      <th></th>\n",
       "      <th>count</th>\n",
       "      <th>nulls</th>\n",
       "      <th>nulls%</th>\n",
       "      <th>cardinalidad (únicos)</th>\n",
       "      <th>cardinalidad (%)</th>\n",
       "    </tr>\n",
       "  </thead>\n",
       "  <tbody>\n",
       "    <tr>\n",
       "      <th>track_id</th>\n",
       "      <td>28352</td>\n",
       "      <td>0</td>\n",
       "      <td>0.0</td>\n",
       "      <td>28352</td>\n",
       "      <td>100.000000</td>\n",
       "    </tr>\n",
       "    <tr>\n",
       "      <th>track_name</th>\n",
       "      <td>28352</td>\n",
       "      <td>0</td>\n",
       "      <td>0.0</td>\n",
       "      <td>23449</td>\n",
       "      <td>82.706687</td>\n",
       "    </tr>\n",
       "    <tr>\n",
       "      <th>track_album_id</th>\n",
       "      <td>28352</td>\n",
       "      <td>0</td>\n",
       "      <td>0.0</td>\n",
       "      <td>22543</td>\n",
       "      <td>79.511146</td>\n",
       "    </tr>\n",
       "    <tr>\n",
       "      <th>duration_ms</th>\n",
       "      <td>28352</td>\n",
       "      <td>0</td>\n",
       "      <td>0.0</td>\n",
       "      <td>19782</td>\n",
       "      <td>69.772856</td>\n",
       "    </tr>\n",
       "    <tr>\n",
       "      <th>track_album_name</th>\n",
       "      <td>28352</td>\n",
       "      <td>0</td>\n",
       "      <td>0.0</td>\n",
       "      <td>19743</td>\n",
       "      <td>69.635299</td>\n",
       "    </tr>\n",
       "    <tr>\n",
       "      <th>tempo</th>\n",
       "      <td>28352</td>\n",
       "      <td>0</td>\n",
       "      <td>0.0</td>\n",
       "      <td>17682</td>\n",
       "      <td>62.365971</td>\n",
       "    </tr>\n",
       "    <tr>\n",
       "      <th>track_artist</th>\n",
       "      <td>28352</td>\n",
       "      <td>0</td>\n",
       "      <td>0.0</td>\n",
       "      <td>10692</td>\n",
       "      <td>37.711625</td>\n",
       "    </tr>\n",
       "    <tr>\n",
       "      <th>loudness</th>\n",
       "      <td>28352</td>\n",
       "      <td>0</td>\n",
       "      <td>0.0</td>\n",
       "      <td>10222</td>\n",
       "      <td>36.053894</td>\n",
       "    </tr>\n",
       "    <tr>\n",
       "      <th>instrumentalness</th>\n",
       "      <td>28352</td>\n",
       "      <td>0</td>\n",
       "      <td>0.0</td>\n",
       "      <td>4729</td>\n",
       "      <td>16.679599</td>\n",
       "    </tr>\n",
       "    <tr>\n",
       "      <th>track_album_release_date</th>\n",
       "      <td>28352</td>\n",
       "      <td>0</td>\n",
       "      <td>0.0</td>\n",
       "      <td>4529</td>\n",
       "      <td>15.974182</td>\n",
       "    </tr>\n",
       "    <tr>\n",
       "      <th>acousticness</th>\n",
       "      <td>28352</td>\n",
       "      <td>0</td>\n",
       "      <td>0.0</td>\n",
       "      <td>3731</td>\n",
       "      <td>13.159565</td>\n",
       "    </tr>\n",
       "    <tr>\n",
       "      <th>liveness</th>\n",
       "      <td>28352</td>\n",
       "      <td>0</td>\n",
       "      <td>0.0</td>\n",
       "      <td>1624</td>\n",
       "      <td>5.727991</td>\n",
       "    </tr>\n",
       "    <tr>\n",
       "      <th>valence</th>\n",
       "      <td>28352</td>\n",
       "      <td>0</td>\n",
       "      <td>0.0</td>\n",
       "      <td>1362</td>\n",
       "      <td>4.803894</td>\n",
       "    </tr>\n",
       "    <tr>\n",
       "      <th>speechiness</th>\n",
       "      <td>28352</td>\n",
       "      <td>0</td>\n",
       "      <td>0.0</td>\n",
       "      <td>1270</td>\n",
       "      <td>4.479402</td>\n",
       "    </tr>\n",
       "    <tr>\n",
       "      <th>energy</th>\n",
       "      <td>28352</td>\n",
       "      <td>0</td>\n",
       "      <td>0.0</td>\n",
       "      <td>952</td>\n",
       "      <td>3.357788</td>\n",
       "    </tr>\n",
       "    <tr>\n",
       "      <th>danceability</th>\n",
       "      <td>28352</td>\n",
       "      <td>0</td>\n",
       "      <td>0.0</td>\n",
       "      <td>822</td>\n",
       "      <td>2.899266</td>\n",
       "    </tr>\n",
       "    <tr>\n",
       "      <th>track_popularity</th>\n",
       "      <td>28352</td>\n",
       "      <td>0</td>\n",
       "      <td>0.0</td>\n",
       "      <td>101</td>\n",
       "      <td>0.356236</td>\n",
       "    </tr>\n",
       "    <tr>\n",
       "      <th>playlist_subgenre</th>\n",
       "      <td>28352</td>\n",
       "      <td>0</td>\n",
       "      <td>0.0</td>\n",
       "      <td>24</td>\n",
       "      <td>0.084650</td>\n",
       "    </tr>\n",
       "    <tr>\n",
       "      <th>key</th>\n",
       "      <td>28352</td>\n",
       "      <td>0</td>\n",
       "      <td>0.0</td>\n",
       "      <td>12</td>\n",
       "      <td>0.042325</td>\n",
       "    </tr>\n",
       "    <tr>\n",
       "      <th>playlist_genre</th>\n",
       "      <td>28352</td>\n",
       "      <td>0</td>\n",
       "      <td>0.0</td>\n",
       "      <td>6</td>\n",
       "      <td>0.021163</td>\n",
       "    </tr>\n",
       "    <tr>\n",
       "      <th>mode</th>\n",
       "      <td>28352</td>\n",
       "      <td>0</td>\n",
       "      <td>0.0</td>\n",
       "      <td>2</td>\n",
       "      <td>0.007054</td>\n",
       "    </tr>\n",
       "  </tbody>\n",
       "</table>\n",
       "</div>"
      ],
      "text/plain": [
       "                          count  nulls  nulls%  cardinalidad (únicos)  \\\n",
       "track_id                  28352      0     0.0                  28352   \n",
       "track_name                28352      0     0.0                  23449   \n",
       "track_album_id            28352      0     0.0                  22543   \n",
       "duration_ms               28352      0     0.0                  19782   \n",
       "track_album_name          28352      0     0.0                  19743   \n",
       "tempo                     28352      0     0.0                  17682   \n",
       "track_artist              28352      0     0.0                  10692   \n",
       "loudness                  28352      0     0.0                  10222   \n",
       "instrumentalness          28352      0     0.0                   4729   \n",
       "track_album_release_date  28352      0     0.0                   4529   \n",
       "acousticness              28352      0     0.0                   3731   \n",
       "liveness                  28352      0     0.0                   1624   \n",
       "valence                   28352      0     0.0                   1362   \n",
       "speechiness               28352      0     0.0                   1270   \n",
       "energy                    28352      0     0.0                    952   \n",
       "danceability              28352      0     0.0                    822   \n",
       "track_popularity          28352      0     0.0                    101   \n",
       "playlist_subgenre         28352      0     0.0                     24   \n",
       "key                       28352      0     0.0                     12   \n",
       "playlist_genre            28352      0     0.0                      6   \n",
       "mode                      28352      0     0.0                      2   \n",
       "\n",
       "                          cardinalidad (%)  \n",
       "track_id                        100.000000  \n",
       "track_name                       82.706687  \n",
       "track_album_id                   79.511146  \n",
       "duration_ms                      69.772856  \n",
       "track_album_name                 69.635299  \n",
       "tempo                            62.365971  \n",
       "track_artist                     37.711625  \n",
       "loudness                         36.053894  \n",
       "instrumentalness                 16.679599  \n",
       "track_album_release_date         15.974182  \n",
       "acousticness                     13.159565  \n",
       "liveness                          5.727991  \n",
       "valence                           4.803894  \n",
       "speechiness                       4.479402  \n",
       "energy                            3.357788  \n",
       "danceability                      2.899266  \n",
       "track_popularity                  0.356236  \n",
       "playlist_subgenre                 0.084650  \n",
       "key                               0.042325  \n",
       "playlist_genre                    0.021163  \n",
       "mode                              0.007054  "
      ]
     },
     "execution_count": 31,
     "metadata": {},
     "output_type": "execute_result"
    }
   ],
   "source": [
    "cardi = pd.DataFrame({'count': df_general.shape[0], \n",
    "              'nulls': df_general.isnull().sum(), \n",
    "              'nulls%': df_general.isnull().mean() * 100, \n",
    "              'cardinalidad (únicos)': df_general.nunique(),\n",
    "              'cardinalidad (%)': (df_general.nunique()/len(df_general))*100,\n",
    "             })\n",
    "cardi.sort_values(by='cardinalidad (%)', ascending=False)"
   ]
  },
  {
   "cell_type": "markdown",
   "metadata": {},
   "source": [
    "Del estudio de la cardinalidad podemos destacar: \n",
    "\n",
    "- Que el valor de `mode` es 2 porque existen principalmente dos agrupaciones de modos musicales (escalas mayores y escalas menores).\n",
    "- Que existen 6 géneros principales y 24 subgéneros en las canciones de nuestro dataset.\n",
    "- Que existen 101 valores de `track_popularity`.\n"
   ]
  },
  {
   "cell_type": "code",
   "execution_count": null,
   "metadata": {},
   "outputs": [],
   "source": [
    "df_general.info()"
   ]
  },
  {
   "cell_type": "markdown",
   "metadata": {},
   "source": [
    "Obtenemos la siguiente configuración:\n",
    "\n",
    "dtypes: float64(9), int64(4), object(10)\n",
    "\n",
    "De los valores obtenidos, consideramos que la columna `track_album_release_date` sería más óptima convertirla a un formato `DateTime`, ya que contiene la fecha de publicación de los álbumes. También creemos que carece de sentido cuantificar las canciones en milisegundos cuando el orden de magnitud habitual es otro muy diferente, por lo que convertiremos la columna `duration_ms` del tipo `int64`.\n",
    "\n",
    "Para ello:"
   ]
  },
  {
   "cell_type": "code",
   "execution_count": null,
   "metadata": {},
   "outputs": [],
   "source": [
    "df_general['track_album_release_date'].dtypes"
   ]
  },
  {
   "cell_type": "code",
   "execution_count": null,
   "metadata": {},
   "outputs": [],
   "source": [
    "#TUTORIA: cuando formateo Y, M, d me dice que 2012 no lo coge en la posicion 96(.loc). Si coerce, me quita muchos datos. \n",
    "\n",
    "df_general['track_album_release_date'] = pd.to_datetime(df_general['track_album_release_date'], format='mixed')\n"
   ]
  },
  {
   "cell_type": "code",
   "execution_count": null,
   "metadata": {},
   "outputs": [],
   "source": [
    "df_general.info()"
   ]
  },
  {
   "cell_type": "code",
   "execution_count": null,
   "metadata": {},
   "outputs": [],
   "source": [
    "df_general['track_album_release_date'].count"
   ]
  },
  {
   "cell_type": "code",
   "execution_count": null,
   "metadata": {},
   "outputs": [],
   "source": [
    "df_general['track_album_release_date'].count()"
   ]
  },
  {
   "cell_type": "markdown",
   "metadata": {},
   "source": [
    "Ahora realizaremos la conversión de milisegundos a minutos y segundos. Para ello:"
   ]
  },
  {
   "cell_type": "code",
   "execution_count": null,
   "metadata": {},
   "outputs": [],
   "source": [
    "#6 métodos: lista de comprensión, map, apply, transform, aggregate y lambda\n",
    "def conversor(milisegundos):\n",
    "    segundos = milisegundos / 1000.0\n",
    "    return int(segundos)\n",
    "milisegundos = 5000 \n",
    "segundos = conversor(milisegundos)\n",
    "print(segundos)\n",
    "\n",
    "\n"
   ]
  },
  {
   "cell_type": "code",
   "execution_count": null,
   "metadata": {},
   "outputs": [],
   "source": [
    "df_general['duration_s'] = df_general['duration_ms'].map(conversor)\n",
    "\n",
    "df_general['duration_s']"
   ]
  },
  {
   "cell_type": "code",
   "execution_count": null,
   "metadata": {},
   "outputs": [],
   "source": [
    "df_general['duration_s'].dtype"
   ]
  },
  {
   "cell_type": "code",
   "execution_count": null,
   "metadata": {},
   "outputs": [],
   "source": [
    "# df_features['duration_min'] = df_features['duration_ms'].apply (lambda x : round(x/60000,ndigits=1))\n",
    "\n",
    "#esta funcion establece que una cancion dura 1.7 minutos."
   ]
  },
  {
   "cell_type": "markdown",
   "metadata": {},
   "source": [
    "La columna `duration_ms` no la usaremos, por lo que la eliminaremos con drop"
   ]
  },
  {
   "cell_type": "code",
   "execution_count": null,
   "metadata": {},
   "outputs": [],
   "source": [
    "df_general.drop('duration_ms', inplace = True, axis=1)\n"
   ]
  },
  {
   "cell_type": "markdown",
   "metadata": {},
   "source": [
    "### Creación de columna artist_popularity\n",
    "\n"
   ]
  },
  {
   "cell_type": "code",
   "execution_count": null,
   "metadata": {},
   "outputs": [],
   "source": [
    "df_general['artist_popularity'] = df_general.groupby('track_artist')['track_popularity'].transform('mean')\n",
    "\n",
    "df_general['artist_popularity'].sort_values(ascending=False)\n"
   ]
  },
  {
   "cell_type": "code",
   "execution_count": null,
   "metadata": {},
   "outputs": [],
   "source": [
    "df_general['artist_popularity'].max()"
   ]
  },
  {
   "cell_type": "code",
   "execution_count": null,
   "metadata": {},
   "outputs": [],
   "source": [
    "df_general['track_artist'][3155]"
   ]
  },
  {
   "cell_type": "code",
   "execution_count": null,
   "metadata": {},
   "outputs": [],
   "source": [
    "df_general['artist_popularity'][3155]"
   ]
  },
  {
   "cell_type": "code",
   "execution_count": null,
   "metadata": {},
   "outputs": [],
   "source": [
    "df_general['track_artist'][2]"
   ]
  },
  {
   "cell_type": "code",
   "execution_count": null,
   "metadata": {},
   "outputs": [],
   "source": [
    "df_general['artist_popularity'].head()"
   ]
  },
  {
   "cell_type": "code",
   "execution_count": null,
   "metadata": {},
   "outputs": [],
   "source": [
    "df_general[df_general['track_artist'] == 'Martin Garrix']"
   ]
  },
  {
   "cell_type": "markdown",
   "metadata": {},
   "source": [
    "#### Análisis general del conjunto de datos tras las transformaciones para observar los cambios."
   ]
  },
  {
   "cell_type": "code",
   "execution_count": null,
   "metadata": {},
   "outputs": [],
   "source": [
    "df_general.T.shape\n",
    "\n",
    "df_general.T.shape\n",
    "\n",
    "print('El dataframe tiene ahora', df_general.T.shape[0], 'columnas y ', df_general.T.shape[1], 'registros de fila.')"
   ]
  },
  {
   "cell_type": "code",
   "execution_count": null,
   "metadata": {},
   "outputs": [],
   "source": [
    "df_general.info()"
   ]
  },
  {
   "cell_type": "markdown",
   "metadata": {},
   "source": [
    "Ahora observamos el mismo número de datos NO nulos en todas las columnas, por lo que podemos afirmar que no existen nulos en el conjunto de datos.\n",
    "\n",
    "Además, observamos que la columna `track_album_release_date` ha cambiado su tipología de `object` a `DateTime`"
   ]
  },
  {
   "cell_type": "code",
   "execution_count": null,
   "metadata": {},
   "outputs": [],
   "source": [
    "df_general.describe()"
   ]
  },
  {
   "cell_type": "code",
   "execution_count": null,
   "metadata": {},
   "outputs": [],
   "source": [
    "df_limpio = df_general"
   ]
  },
  {
   "cell_type": "markdown",
   "metadata": {},
   "source": [
    "# GUARDAR CSV"
   ]
  },
  {
   "cell_type": "markdown",
   "metadata": {},
   "source": []
  },
  {
   "cell_type": "code",
   "execution_count": null,
   "metadata": {},
   "outputs": [],
   "source": [
    "df_general.to_csv('../EDA_Spotify/spotify_def_clean.csv', sep=\t',', index=False)"
   ]
  },
  {
   "cell_type": "markdown",
   "metadata": {},
   "source": [
    "# 6. Análisis de datos."
   ]
  },
  {
   "cell_type": "markdown",
   "metadata": {},
   "source": [
    "6.1 Análisis univariante.\n",
    "        - Gráficos de distribución\n",
    "        -Histograma\n",
    "        -KDE\n",
    "        -Boxplot\n",
    "6.2 Análisis bivariante.\n",
    "6.3 Análisis multivariante.\n",
    "6.4 Contraste de hipótesis."
   ]
  },
  {
   "cell_type": "code",
   "execution_count": null,
   "metadata": {},
   "outputs": [],
   "source": [
    "columnas = df_general.columns\n",
    "columnas"
   ]
  },
  {
   "cell_type": "markdown",
   "metadata": {},
   "source": [
    "## Análisis univariante\n",
    "\n",
    "En este apartado estudiaremos aspectos fundamentales de cada variable tales como la posición central (media, moda, mediana) y no central (mínimo y máximo y percentiles)"
   ]
  },
  {
   "cell_type": "markdown",
   "metadata": {},
   "source": [
    "### ¿Cuántos géneros existen en el Dataset elegido?"
   ]
  },
  {
   "cell_type": "code",
   "execution_count": null,
   "metadata": {},
   "outputs": [],
   "source": [
    "df_general['playlist_genre'].unique()"
   ]
  },
  {
   "cell_type": "code",
   "execution_count": null,
   "metadata": {},
   "outputs": [],
   "source": [
    "generos = df_general.groupby('playlist_genre')['track_id'].count().reset_index()\n",
    "generos = generos.sort_values(by='track_id', ascending=False)\n",
    "\n",
    "#Gráfico\n",
    "plt.style.use('dark_background')\n",
    "colores = sns.color_palette(\"Greens_r\", n_colors=len(generos))\n",
    "plt.figure(figsize=(12, 6))\n",
    "bars = plt.bar(generos['playlist_genre'].str.upper().unique(), generos['track_id'], color=colores)\n",
    "plt.xlabel('Género', color='white')\n",
    "plt.ylabel('Total de canciones', color='white')\n",
    "plt.title('Total de canciones por género musical', color='white')\n",
    "plt.rcParams['text.color'] = 'white'\n",
    "plt.rcParams['axes.labelcolor'] = 'white'\n",
    "plt.rcParams['xtick.color'] = 'white'\n",
    "plt.rcParams['ytick.color'] = 'white'\n",
    "plt.gca().xaxis.grid(False)\n",
    "plt.gca().yaxis.grid(False)\n",
    "for bar in bars:\n",
    "    yval = bar.get_height()\n",
    "    plt.text(bar.get_x() + bar.get_width() / 2, yval + 0.05, round(yval, 2), ha='center', va='bottom', color='white')\n",
    "\n"
   ]
  },
  {
   "cell_type": "markdown",
   "metadata": {},
   "source": [
    "### ¿Y cuántos subgéneros?"
   ]
  },
  {
   "cell_type": "code",
   "execution_count": null,
   "metadata": {},
   "outputs": [],
   "source": [
    "df_general['playlist_subgenre'].unique()"
   ]
  },
  {
   "cell_type": "code",
   "execution_count": null,
   "metadata": {},
   "outputs": [],
   "source": [
    "subgeneros = df_general.groupby('playlist_subgenre')['track_id'].count().reset_index()\n",
    "subgeneros = subgeneros.sort_values(by='track_id', ascending=False)\n",
    "\n",
    "plt.style.use('dark_background')\n",
    "colores = sns.color_palette(\"Greens_r\", n_colors=len(subgeneros))\n",
    "plt.figure(figsize=(14, 10))\n",
    "bars = plt.bar(subgeneros['playlist_subgenre'].str.upper().unique(), subgeneros['track_id'], color=colores)\n",
    "plt.xlabel('Subgénero', color='white')\n",
    "plt.xticks(rotation = 45, ha='right')\n",
    "plt.ylabel('Total de canciones', color='white')\n",
    "plt.title('Total de canciones por subgénero musical', color='white')\n",
    "plt.rcParams['text.color'] = 'white'\n",
    "plt.rcParams['axes.labelcolor'] = 'white'\n",
    "plt.rcParams['xtick.color'] = 'white'\n",
    "plt.rcParams['ytick.color'] = 'white'\n",
    "plt.gca().xaxis.grid(False)\n",
    "plt.gca().yaxis.grid(False)\n",
    "\n",
    "\n",
    "for bar in bars:\n",
    "    yval = bar.get_height()\n",
    "    plt.text(bar.get_x() + bar.get_width() / 2, yval + 0.05, round(yval, 2), ha='center', va='bottom', color='white', rotation=45)"
   ]
  },
  {
   "cell_type": "markdown",
   "metadata": {},
   "source": [
    "### Analisis de distribución de las variables"
   ]
  },
  {
   "cell_type": "code",
   "execution_count": null,
   "metadata": {},
   "outputs": [],
   "source": [
    "def plot(col):\n",
    "    fig, axes = plt.subplots(1, 2, figsize=(20, 5), gridspec_kw={'wspace': 0.4, 'hspace': 0.4})\n",
    "    sns.boxplot(data=df_limpio, x=col, ax=axes[0], color='green', flierprops=dict(markerfacecolor='white', markeredgecolor='green'), saturation=1, fliersize=20, whiskerprops=dict(color='white'), linecolor='white')    \n",
    "    axes[0].grid(False)\n",
    "\n",
    "    ax = sns.histplot(data=df_limpio[col], bins=20, kde=True, color='green')\n",
    "    axes[1].grid(False)\n",
    "    ax.lines[0].set_color('red')"
   ]
  },
  {
   "cell_type": "code",
   "execution_count": null,
   "metadata": {},
   "outputs": [],
   "source": [
    "# https://github.com/mwaskom/seaborn/issues/2344\n",
    "\n",
    "ax = sns.histplot(data=df_general, x='tempo', color='0.8', kde=True)\n",
    "ax.lines[0].set_color('white')"
   ]
  },
  {
   "cell_type": "code",
   "execution_count": null,
   "metadata": {},
   "outputs": [],
   "source": [
    "for col in columnas:\n",
    "    if df_limpio[col].dtype in ['int64', 'float64']:\n",
    "        plot(col)"
   ]
  },
  {
   "cell_type": "markdown",
   "metadata": {},
   "source": [
    "## Análisis bivariante\n",
    "\n",
    "En este apartado estudiaremos la relación entre dos variables para estudiar su posible relación. Para ello, utilizaremos tablas de contigencia para variables categóricas y gráficos de dispersión para variables cuantitativas."
   ]
  },
  {
   "cell_type": "code",
   "execution_count": null,
   "metadata": {},
   "outputs": [],
   "source": [
    "genre_avg_danceability = df_limpio.groupby(by='playlist_genre')['danceability'].mean().sort_values(ascending=False)\n",
    "genre_avg_danceability"
   ]
  },
  {
   "cell_type": "code",
   "execution_count": null,
   "metadata": {},
   "outputs": [],
   "source": [
    "paper = plt.figure(figsize=(15,7))\n",
    "sns.barplot(x=genre_avg_danceability.index,y=genre_avg_danceability.values, color='darkgreen')\n",
    "plt.xlabel('Género',size=12)\n",
    "plt.ylabel('Popularidad',size=12)\n",
    "plt.title('Media de género más popular',size=14)\n",
    "plt.show()\n"
   ]
  },
  {
   "cell_type": "code",
   "execution_count": null,
   "metadata": {},
   "outputs": [],
   "source": [
    "import seaborn as sns\n",
    "import matplotlib.pyplot as plt\n",
    "\n",
    "# Suponiendo que 'genre_avg_danceability' contiene los resultados calculados previamente\n",
    "plt.figure(figsize=(15, 7))\n",
    "\n",
    "# Configuración del estilo\n",
    "sns.set(style=\"darkgrid\", rc={\"axes.facecolor\": \"black\"})\n",
    "\n",
    "# Crear el gráfico de barras\n",
    "sns.barplot(x=genre_avg_danceability.index, y=genre_avg_danceability.values, color='darkgreen')\n",
    "\n",
    "# Configurar etiquetas y título\n",
    "plt.xlabel('Género', size=12)\n",
    "plt.ylabel('Popularidad', size=12)\n",
    "plt.title('Media de género más popular', size=14)\n",
    "\n",
    "# Eliminar cuadrícula y ejes espinales\n",
    "sns.despine(left=True, bottom=True)\n",
    "\n",
    "plt.show()\n"
   ]
  },
  {
   "cell_type": "code",
   "execution_count": null,
   "metadata": {},
   "outputs": [],
   "source": [
    "import seaborn as sns\n",
    "import matplotlib.pyplot as plt\n",
    "\n",
    "# Suponiendo que 'genre_avg_danceability' contiene los resultados calculados previamente\n",
    "paper = plt.figure(figsize=(15, 7))\n",
    "sns.set(style=\"darkgrid\", rc={\"axes.facecolor\": \"black\"})  # Establecer fondo negro y cuadrícula\n",
    "\n",
    "sns.barplot(x=genre_avg_danceability.index, y=genre_avg_danceability.values, color='darkgreen')\n",
    "\n",
    "plt.xlabel('Género', size=12)\n",
    "plt.ylabel('Popularidad', size=12)\n",
    "plt.title('Media de género más popular', size=14)\n",
    "\n",
    "# Eliminar cuadrícula y ejes espinales\n",
    "sns.despine(left=True, bottom=True)\n",
    "\n",
    "plt.show()\n"
   ]
  },
  {
   "cell_type": "markdown",
   "metadata": {},
   "source": [
    "### ¿En qué año se produjeron más canciones?"
   ]
  },
  {
   "cell_type": "code",
   "execution_count": null,
   "metadata": {},
   "outputs": [],
   "source": [
    "#Creamos las columnas de la fecha por separado\n",
    "df_general['release_year'] = df_general['track_album_release_date'].dt.year\n",
    "df_general['release_month'] = df_general['track_album_release_date'].dt.month\n",
    "df_general['release_day'] = df_general['track_album_release_date'].dt.day"
   ]
  },
  {
   "cell_type": "code",
   "execution_count": null,
   "metadata": {},
   "outputs": [],
   "source": [
    "df_general['release_year'].dtype \n",
    "df_general['release_month'].dtype\n",
    "df_general['release_day'].dtype"
   ]
  },
  {
   "cell_type": "markdown",
   "metadata": {},
   "source": [
    "## MEDIDAS POR GÉNERO"
   ]
  },
  {
   "cell_type": "code",
   "execution_count": null,
   "metadata": {},
   "outputs": [],
   "source": [
    "# Suponiendo que 'df_general' es tu DataFrame\n",
    "columnas_a_calcular = ['track_popularity', 'danceability', 'energy', 'key', 'loudness', 'mode', 'speechiness', 'acousticness', 'instrumentalness', 'liveness', 'valence', 'tempo', 'duration_s']\n",
    "\n",
    "# Filtrar el DataFrame para incluir solo los géneros de interés\n",
    "generos_interes = ['latin', 'edm', 'rock', 'r&b', 'rap', 'pop']\n",
    "df_filtrado = df_general[df_general['playlist_genre'].isin(generos_interes)]\n",
    "\n",
    "# Calcular el valor medio por cada género\n",
    "resultados_agrupados = df_filtrado.groupby('playlist_genre')[columnas_a_calcular].mean()\n",
    "\n",
    "# Mostrar los resultados\n",
    "resultados_agrupados\n"
   ]
  },
  {
   "cell_type": "code",
   "execution_count": null,
   "metadata": {},
   "outputs": [],
   "source": [
    "resultados_agrupados.style.set_properties(**{'background-color': 'black',                                                   \n",
    "                                    'color': 'green',                       \n",
    "                                    'border-color': 'green'})"
   ]
  },
  {
   "cell_type": "code",
   "execution_count": null,
   "metadata": {},
   "outputs": [],
   "source": [
    "import matplotlib.pyplot as plt\n",
    "import seaborn as sns\n",
    "\n",
    "# Suponiendo que 'resultados_agrupados' contiene los resultados calculados previamente\n",
    "columnas_a_calcular = ['danceability', 'energy', 'key', 'loudness', 'mode', 'acousticness', 'instrumentalness', 'liveness', 'valence']\n",
    "\n",
    "resultados_agrupados_sin_duration_tempo = df_filtrado.groupby('playlist_genre')[columnas_a_calcular].mean()\n",
    "\n",
    "# Configuración del gráfico de líneas con puntos\n",
    "plt.figure(figsize=(20, 12))\n",
    "\n",
    "# Dibuja las líneas sin marcadores y ajusta el grosor\n",
    "for genre, data in resultados_agrupados_sin_duration_tempo.T.items():\n",
    "    plt.plot(data, label=genre, linewidth=3)\n",
    "    plt.scatter(data.index, data, s=150)  # Agrega puntos a cada valor\n",
    "\n",
    "# Configuración adicional\n",
    "plt.title('Valores Medios por género musical (sin duration_s ni tempo)')\n",
    "plt.xlabel('Columnas')\n",
    "plt.ylabel('Valores Medios')\n",
    "plt.legend(title='Género')\n",
    "\n",
    "# Eliminar las líneas de la cuadrícula\n",
    "plt.grid(False)\n",
    "\n",
    "plt.show()\n"
   ]
  },
  {
   "cell_type": "code",
   "execution_count": null,
   "metadata": {},
   "outputs": [],
   "source": [
    "import matplotlib.pyplot as plt\n",
    "import seaborn as sns\n",
    "\n",
    "# Suponiendo que 'resultados_agrupados' contiene los resultados calculados previamente\n",
    "columnas_a_calcular_2 = ['danceability', 'energy', 'key', 'loudness', 'mode', 'acousticness', 'instrumentalness', 'liveness', 'valence', 'tempo', 'duration_s']\n",
    "\n",
    "resultados_agrupados = df_filtrado.groupby('playlist_genre')[columnas_a_calcular_2].mean()\n",
    "\n",
    "# Configuración del gráfico\n",
    "fig, axs = plt.subplots(nrows=len(columnas_a_calcular_2), ncols=1, figsize=(10, 4 * len(columnas_a_calcular_2)))\n",
    "sns.set_style(\"darkgrid\")  # Establecer el estilo de fondo\n",
    "\n",
    "# Iterar sobre cada columna y crear un gráfico para cada una\n",
    "for idx, columna in enumerate(columnas_a_calcular_2):\n",
    "    sns.barplot(x=resultados_agrupados.index, y=resultados_agrupados[columna], ax=axs[idx], palette=\"BuGn_r\")\n",
    "    axs[idx].set_title(f'Media de {columna} por Género')\n",
    "    axs[idx].set_xlabel('Género')\n",
    "    axs[idx].set_ylabel('Valor Medio')\n",
    "\n",
    "    # Ajustar el fondo y eliminar ejes espinales y cuadrícula\n",
    "    axs[idx].set_facecolor('black')\n",
    "    axs[idx].xaxis.grid(False)\n",
    "    axs[idx].yaxis.grid(False)\n",
    "    sns.despine(ax=axs[idx], left=True, bottom=True)\n",
    "\n",
    "plt.tight_layout()\n",
    "plt.show()\n",
    "\n",
    "\n"
   ]
  },
  {
   "cell_type": "markdown",
   "metadata": {},
   "source": [
    "### ¿Cuántas canciones se publican cada año?"
   ]
  },
  {
   "cell_type": "code",
   "execution_count": null,
   "metadata": {},
   "outputs": [],
   "source": [
    "\n",
    "conteo_anual = df_general['release_year'].value_counts().sort_index()\n",
    "\n",
    "plt.style.use('dark_background')\n",
    "plt.figure(figsize=(12, 6))\n",
    "bars = plt.bar(conteo_anual.index, conteo_anual.values, color=sns.color_palette(\"Greens\", len(conteo_anual)))\n",
    "plt.gca().xaxis.grid(False)\n",
    "plt.gca().yaxis.grid(False)\n",
    "plt.xlabel('Año de Lanzamiento', color='white')\n",
    "plt.ylabel('Cantidad de canciones', color='white')\n",
    "plt.title('Número de canciones publicadas por año', color='white')\n",
    "plt.rcParams['text.color'] = 'white'\n",
    "plt.rcParams['axes.labelcolor'] = 'white'\n",
    "plt.rcParams['xtick.color'] = 'white'\n",
    "plt.rcParams['ytick.color'] = 'white'\n"
   ]
  },
  {
   "cell_type": "code",
   "execution_count": null,
   "metadata": {},
   "outputs": [],
   "source": [
    "import seaborn as sns\n",
    "import matplotlib.pyplot as plt\n",
    "\n",
    "# Agrupar por año y género y contar el número de canciones\n",
    "conteo_anual_genero = df_general.groupby(['release_year', 'playlist_genre']).size().unstack(fill_value=0)\n",
    "\n",
    "plt.style.use('dark_background')\n",
    "plt.figure(figsize=(14, 8))\n",
    "\n",
    "# Crear barras apiladas por género\n",
    "bars = plt.bar(conteo_anual_genero.index, conteo_anual_genero.values.T, color=sns.color_palette(\"Greens\", len(conteo_anual_genero.columns)))\n",
    "\n",
    "# Configuración del gráfico\n",
    "plt.gca().xaxis.grid(False)\n",
    "plt.gca().yaxis.grid(False)\n",
    "plt.xlabel('Año de Lanzamiento', color='white')\n",
    "plt.ylabel('Cantidad de Canciones', color='white')\n",
    "plt.title('Número de Canciones Publicadas por Año y Género', color='white')\n",
    "plt.legend(conteo_anual_genero.columns, loc='upper left', bbox_to_anchor=(1, 1), title='Género')\n",
    "plt.xticks(conteo_anual_genero.index, rotation=45)\n",
    "plt.rcParams['text.color'] = 'white'\n",
    "plt.rcParams['axes.labelcolor'] = 'white'\n",
    "plt.rcParams['xtick.color'] = 'white'\n",
    "plt.rcParams['ytick.color'] = 'white'\n",
    "\n",
    "# Mostrar el gráfico\n",
    "plt.show()\n",
    "\n"
   ]
  },
  {
   "cell_type": "code",
   "execution_count": null,
   "metadata": {},
   "outputs": [],
   "source": [
    "markers = {\"Major\" : 's', \"Minor\":\"X\"}\n",
    "\n",
    "plt.figure(figsize=(20, 15))\n",
    "sns.scatterplot(data=df_general, x='release_year', y='artist_popularity', alpha=0.5, size='track_popularity', sizes=(1,300) ,hue_norm=(0,30), color='Green')\n",
    "plt.gca().xaxis.grid(False)\n",
    "plt.gca().yaxis.grid(False)\n",
    "plt.xlabel('Fecha de Lanzamiento del Álbum')\n",
    "plt.ylabel('Popularidad del Artista')\n",
    "plt.title('Año de lanzamiento de la canción en relación a la popularidad del artista.');\n"
   ]
  },
  {
   "cell_type": "code",
   "execution_count": null,
   "metadata": {},
   "outputs": [],
   "source": [
    "\n",
    "color = sns.palplot(sns.color_palette(\"BuGn_r\", 6))"
   ]
  },
  {
   "cell_type": "code",
   "execution_count": null,
   "metadata": {},
   "outputs": [],
   "source": [
    "%matplotlib inline\n",
    "plt.figure(figsize=(20, 16))\n",
    "sns.scatterplot(data=df_general, x='release_year', y='track_popularity', hue='playlist_genre', size='mode')\n",
    "plt.gca().yaxis.grid(False)\n",
    "plt.xlabel('Fecha de Lanzamiento del Álbum')\n",
    "plt.ylabel('Popularidad de la canción')\n",
    "plt.title('Año de lanzamiento de la canción en relación a la popularidad del artista, por género y modo.');"
   ]
  },
  {
   "cell_type": "markdown",
   "metadata": {},
   "source": [
    "### ¿Cuál es el mejor mes del año para publicar una canción?"
   ]
  },
  {
   "cell_type": "code",
   "execution_count": null,
   "metadata": {},
   "outputs": [],
   "source": [
    "dias_semana = {1: 'Lunes', 2: 'Martes', 3: 'Miércoles', 4: 'Jueves', 5: 'Viernes', 6: 'Sábado', 7: 'Domingo'}\n",
    "dias_semana_seleccionados = list(range(1, 8))\n",
    "conteo_mensual = df_general['release_day'].value_counts().sort_index()\n",
    "\n",
    "plt.figure(figsize=(10, 6))\n",
    "datos_semana = df_general[df_general['release_day'].isin(dias_semana_seleccionados)]\n",
    "sns.scatterplot(data=datos_semana, x='release_day', y='artist_popularity', alpha=0.3, hue='playlist_genre')\n",
    "plt.gca().xaxis.grid(False)\n",
    "plt.gca().yaxis.grid(False)\n",
    "nombres_dias = [dias_semana.get(dia, '') for dia in dias_semana_seleccionados]\n",
    "plt.xticks(dias_semana_seleccionados, nombres_dias)\n",
    "plt.xlabel('Día de la Semana')\n",
    "plt.ylabel('Popularidad del Artista')\n",
    "plt.title('Relación entre Popularidad del artista y día de lanzamiento de la canción')\n",
    "plt.legend(title='canción', bbox_to_anchor=(1.01, 1), loc='upper left', markerscale=1.5)\n",
    "\n",
    "for dia, total_canciones in zip(dias_semana_seleccionados, conteo_mensual):\n",
    "    plt.text(dia, max(datos_semana['artist_popularity']) + 1, f'{total_canciones}', ha='center', va='bottom', )\n",
    "\n",
    "\n",
    "\n"
   ]
  },
  {
   "cell_type": "code",
   "execution_count": null,
   "metadata": {},
   "outputs": [],
   "source": [
    "conteo_diario = df_general['release_day'].value_counts().sort_index()\n",
    "\n",
    "dias_semana = {1: 'Lunes', 2: 'Martes', 3: 'Miércoles', 4: 'Jueves', 5: 'Viernes', 6: 'Sábado', 7: 'Domingo'}\n",
    "dias_semana_seleccionados = list(range(1, 8))\n",
    "conteo_diario = df_general['release_day'].value_counts().sort_index()\n",
    "plt.figure(figsize=(24, 8))\n",
    "sns.scatterplot(data=df_general, x='release_day', y='artist_popularity', alpha=0.3)\n",
    "plt.gca().xaxis.grid(False)\n",
    "plt.gca().yaxis.grid(False)\n",
    "plt.xticks()\n",
    "plt.xlabel('Fecha de Lanzamiento del Álbum')\n",
    "plt.ylabel('Popularidad del Artista')\n",
    "plt.title('Relación entre Popularidad del artista y día de lanzamiento de la canción');\n",
    "\n"
   ]
  },
  {
   "cell_type": "code",
   "execution_count": null,
   "metadata": {},
   "outputs": [],
   "source": [
    "df_general['release_year']\n",
    "df_general['track_id'].count()\n",
    "\n",
    "df_general[['track_id','release_year']].value_counts()"
   ]
  },
  {
   "cell_type": "code",
   "execution_count": null,
   "metadata": {},
   "outputs": [],
   "source": [
    "df_general['release_year'].dtypes"
   ]
  },
  {
   "cell_type": "code",
   "execution_count": null,
   "metadata": {},
   "outputs": [],
   "source": [
    "%matplotlib inline\n",
    "\n",
    "fig, axes = joypy.joyplot(df_limpio, by=\"release_year\", column='danceability',figsize=(6,12), color='white', fill=True, linewidth=0.5, title='Bailabilidad')"
   ]
  },
  {
   "cell_type": "code",
   "execution_count": null,
   "metadata": {},
   "outputs": [],
   "source": [
    "%matplotlib inline\n",
    "\n",
    "fig, axes = joypy.joyplot(df_limpio, by=\"release_year\", column='energy',figsize=(6,12), color='white', fill=True, linewidth=0.5, title='Energy')"
   ]
  },
  {
   "cell_type": "code",
   "execution_count": null,
   "metadata": {},
   "outputs": [],
   "source": [
    "%matplotlib inline\n",
    "\n",
    "fig, axes = joypy.joyplot(df_limpio, by=\"release_year\", column='loudness',figsize=(6,12), color='white', fill=True, linewidth=0.5, background='black', title='Loudness' )"
   ]
  },
  {
   "cell_type": "code",
   "execution_count": null,
   "metadata": {},
   "outputs": [],
   "source": [
    "%matplotlib inline\n",
    "\n",
    "fig, axes = joypy.joyplot(df_limpio, by=\"release_year\", column='speechiness',figsize=(6,12), color='white', fill=True, linewidth=0.5, title='Speechiness')"
   ]
  },
  {
   "cell_type": "code",
   "execution_count": null,
   "metadata": {},
   "outputs": [],
   "source": [
    "%matplotlib inline\n",
    "\n",
    "fig, axes = joypy.joyplot(df_limpio, by=\"release_year\", column='tempo',figsize=(6,12), color='white', fill=True, linewidth=0.5, title='Tempo')"
   ]
  },
  {
   "cell_type": "code",
   "execution_count": null,
   "metadata": {},
   "outputs": [],
   "source": [
    "\n",
    "%matplotlib inline\n",
    "fig, axes = joypy.joyplot(df_limpio, by=\"release_year\", column='liveness',figsize=(6,12), color='white', fill=True, linewidth=0.5,title='Liveness')"
   ]
  },
  {
   "cell_type": "code",
   "execution_count": null,
   "metadata": {},
   "outputs": [],
   "source": [
    "%matplotlib inline\n",
    "\n",
    "fig, axes = joypy.joyplot(df_limpio, by=\"release_year\", column='instrumentalness',figsize=(6,12), color='white', fill=True, linewidth=0.5, title='Instrumentalness')"
   ]
  },
  {
   "cell_type": "markdown",
   "metadata": {},
   "source": [
    "### ¿Cuáles son los artistas más prolíficos en este conjunto de datos?"
   ]
  },
  {
   "cell_type": "code",
   "execution_count": null,
   "metadata": {},
   "outputs": [],
   "source": [
    "prolif = df_limpio['track_artist'].value_counts().head(10)"
   ]
  },
  {
   "cell_type": "code",
   "execution_count": null,
   "metadata": {},
   "outputs": [],
   "source": [
    "prolif.plot.barh(color=colores)\n",
    "colores = sns.color_palette(\"Greens\", n_colors=10)\n",
    "plt.title(\"Top 10 artistas populares\")\n",
    "plt.ylabel('Artistas',fontsize=10)               \n",
    "plt.xlabel('Nº de canciones',fontsize=10);              \n"
   ]
  },
  {
   "cell_type": "code",
   "execution_count": null,
   "metadata": {},
   "outputs": [],
   "source": [
    "import seaborn as sns\n",
    "import matplotlib.pyplot as plt\n",
    "\n",
    "# Suponiendo que 'prolif' es tu DataFrame y 'colores' está definido\n",
    "colores = sns.color_palette(\"Greens\", n_colors=10)\n",
    "\n",
    "# Configuración del gráfico de barras horizontal\n",
    "prolif.plot.barh(color=colores)\n",
    "\n",
    "# Eliminar cuadrícula y ejes espinales\n",
    "sns.despine(left=True, bottom=True)\n",
    "\n",
    "plt.title(\"Top 10 artistas populares\")\n",
    "plt.ylabel('Artistas', fontsize=10)\n",
    "plt.xlabel('Nº de canciones', fontsize=10)\n",
    "\n",
    "plt.show()\n"
   ]
  },
  {
   "cell_type": "code",
   "execution_count": null,
   "metadata": {},
   "outputs": [],
   "source": [
    "df_limpio['track_id']"
   ]
  },
  {
   "cell_type": "code",
   "execution_count": null,
   "metadata": {},
   "outputs": [],
   "source": [
    "top_ten_songs = df_limpio.groupby(\"track_popularity\").count().sort_values(by=[\"track_popularity\"], ascending=False)[:11]\n",
    "top_ten_songs.reset_index()"
   ]
  },
  {
   "cell_type": "code",
   "execution_count": null,
   "metadata": {},
   "outputs": [],
   "source": [
    "top_ten_songs.plot.barh(color=colores)\n",
    "colores = sns.color_palette(\"Greens\", n_colors=10)\n",
    "plt.title(\"Top 10 canciones populares\")\n",
    "plt.ylabel('Artistas',fontsize=10)               \n",
    "plt.xlabel('Nº de canciones',fontsize=10);              "
   ]
  },
  {
   "cell_type": "code",
   "execution_count": null,
   "metadata": {},
   "outputs": [],
   "source": [
    "sns.set(rc={'figure.figsize':(15,10)}, style='darkgrid')\n",
    "sns.set(style=\"darkgrid\")\n",
    "\n",
    "sns.scatterplot(x='track_popularity', y='release_year', data=df_general, hue='playlist_genre' )\n"
   ]
  },
  {
   "cell_type": "code",
   "execution_count": null,
   "metadata": {},
   "outputs": [],
   "source": [
    "df_general.hist(figsize=(30,25),grid=False,color='green', bins=30)\n",
    "plt.style.use('dark_background')\n",
    "plt.rcParams['text.color'] = 'white'\n",
    "plt.rcParams['axes.labelcolor'] = 'white'\n",
    "plt.rcParams['xtick.color'] = 'white'\n",
    "plt.rcParams['ytick.color'] = 'white'"
   ]
  },
  {
   "cell_type": "code",
   "execution_count": null,
   "metadata": {},
   "outputs": [],
   "source": [
    "df_pairplot = df_general.select_dtypes(exclude=object)"
   ]
  },
  {
   "cell_type": "code",
   "execution_count": null,
   "metadata": {},
   "outputs": [],
   "source": [
    "sns.pairplot(df_pairplot)\n",
    "plt.style.use('dark_background')\n",
    "plt.rcParams['text.color'] = 'white'\n",
    "plt.rcParams['axes.labelcolor'] = 'white'\n",
    "plt.rcParams['xtick.color'] = 'white'\n",
    "plt.rcParams['ytick.color'] = 'white'"
   ]
  },
  {
   "cell_type": "code",
   "execution_count": null,
   "metadata": {},
   "outputs": [],
   "source": [
    "a = df_general[df_general['track_popularity'] == 0]"
   ]
  },
  {
   "cell_type": "code",
   "execution_count": null,
   "metadata": {},
   "outputs": [],
   "source": [
    "df_numeric = df_limpio.select_dtypes(include=['float64', 'int64'])\n"
   ]
  },
  {
   "cell_type": "code",
   "execution_count": null,
   "metadata": {},
   "outputs": [],
   "source": [
    "correlacion = df_numeric.corr()\n",
    "correlacion"
   ]
  },
  {
   "cell_type": "code",
   "execution_count": null,
   "metadata": {},
   "outputs": [],
   "source": [
    "plt.figure(figsize=(12,10))\n",
    "\n",
    "ax = sns.heatmap(correlacion, cmap=\"Greens\", annot=True)"
   ]
  },
  {
   "cell_type": "code",
   "execution_count": null,
   "metadata": {},
   "outputs": [],
   "source": [
    "top_five_artists = df_limpio.groupby(\"track_artist\").count().sort_values(by=\"track_name\", ascending=False)[\"track_name\"][:11]\n",
    "top_five_artists.reset_index()"
   ]
  },
  {
   "cell_type": "code",
   "execution_count": null,
   "metadata": {},
   "outputs": [],
   "source": [
    "top_five_artists"
   ]
  },
  {
   "cell_type": "code",
   "execution_count": null,
   "metadata": {},
   "outputs": [],
   "source": [
    "#convertir verde\n",
    "\n",
    "top_five_artists = df_limpio.groupby(\"track_artist\").count().sort_values(by=\"track_name\", ascending=False)[\"track_name\"][:11]\n",
    "top_five_artists = top_five_artists.reset_index()\n",
    "\n",
    "\n",
    "df_top_five = df_limpio[df_limpio['track_artist'].isin(top_five_artists['track_artist'])]\n",
    "\n",
    "plt.figure(figsize=(16, 8))\n",
    "sns.barplot(data=df_top_five, x='track_artist', y='track_popularity', estimator=sum, ci=None, hue='track_artist', dodge=False)\n",
    "plt.xlabel('Artista')\n",
    "plt.ylabel('Popularidad Total')\n",
    "plt.title('Popularidad Total de las Canciones de los Cinco Artistas Principales')\n",
    "plt.legend(title='Artista', bbox_to_anchor=(1.05, 1), loc='upper left')\n",
    "\n",
    "plt.show()\n",
    "\n"
   ]
  },
  {
   "cell_type": "code",
   "execution_count": null,
   "metadata": {},
   "outputs": [],
   "source": [
    "import seaborn as sns\n",
    "import matplotlib.pyplot as plt\n",
    "\n",
    "# Suponiendo que 'df_top_five' contiene los datos necesarios\n",
    "\n",
    "# Obtener los artistas y su popularidad total\n",
    "artistas_popularidad = df_top_five.groupby(\"track_artist\")[\"track_popularity\"].sum().sort_values(ascending=False)\n",
    "\n",
    "# Crear una paleta de colores verde\n",
    "colores_verdes = sns.color_palette(\"Greens\", n_colors=len(artistas_popularidad))\n",
    "\n",
    "# Configurar el estilo de fondo\n",
    "sns.set(style=\"darkgrid\", rc={\"axes.facecolor\": \"black\"})\n",
    "\n",
    "# Configuración del gráfico de barras\n",
    "plt.figure(figsize=(16, 8))\n",
    "sns.barplot(x=artistas_popularidad.index, y=artistas_popularidad, palette=colores_verdes)\n",
    "plt.xlabel('Artista')\n",
    "plt.ylabel('Popularidad Total')\n",
    "plt.title('Popularidad Total de las Canciones de los Cinco Artistas Principales')\n",
    "plt.legend().remove()  # No se necesita leyenda para un solo color en la paleta\n",
    "\n",
    "# Eliminar cuadrícula y ejes espinales\n",
    "sns.despine(left=True, bottom=True)\n",
    "\n",
    "plt.show()\n",
    "\n"
   ]
  },
  {
   "cell_type": "code",
   "execution_count": null,
   "metadata": {},
   "outputs": [],
   "source": [
    "import seaborn as sns\n",
    "import matplotlib.pyplot as plt\n",
    "\n",
    "# Suponiendo que 'df_top_five' contiene los datos necesarios\n",
    "artistas_popularidad = df_top_five.groupby(\"track_artist\")[\"track_popularity\"].sum().sort_values(ascending=False)\n",
    "colores_verdes = sns.color_palette(\"Greens\", n_colors=len(artistas_popularidad))\n",
    "\n",
    "# Configuración del gráfico de barras\n",
    "plt.figure(figsize=(20, 8))\n",
    "sns.barplot(x=artistas_popularidad.index, y=artistas_popularidad, palette=colores_verdes)\n",
    "plt.xlabel('Artista')\n",
    "plt.ylabel('Popularidad Total')\n",
    "plt.title('Popularidad total de las canciones de los diez artistas principales')\n",
    "plt.legend().remove()  # No se necesita leyenda para un solo color en la paleta\n",
    "\n",
    "# Ajustar el fondo a negro\n",
    "plt.gca().set_facecolor('black')\n",
    "\n",
    "# Eliminar cuadrícula y ejes espinales\n",
    "sns.despine(left=True, bottom=True)\n",
    "\n",
    "plt.show()\n"
   ]
  },
  {
   "cell_type": "code",
   "execution_count": null,
   "metadata": {},
   "outputs": [],
   "source": [
    "%matplotlib inline\n",
    "top_five_artists = df_limpio.groupby(\"track_artist\").count().sort_values(by=\"track_popularity\", ascending=False)[\"track_popularity\"][:11]\n",
    "top_five_artists = top_five_artists.reset_index()\n",
    "\n",
    "df_top_five = df_limpio[df_limpio['track_artist'].isin(top_five_artists['track_artist'])]\n",
    "\n",
    "plt.figure(figsize=(20, 10))\n",
    "scatter_plot = sns.scatterplot(data=df_top_five, x='track_artist', y='track_popularity', hue='playlist_genre', s=75)\n",
    "\n",
    "# Eliminar cuadrícula\n",
    "scatter_plot.xaxis.grid(False)\n",
    "scatter_plot.yaxis.grid(False)\n",
    "\n",
    "plt.xlabel('Artista')\n",
    "plt.ylabel('Canciones')\n",
    "plt.title('Recuento de las canciones de los diez artistas más populares, por género')\n",
    "plt.legend(title='Canción', bbox_to_anchor=(1.01, 1), loc='upper left', markerscale=0.8)\n",
    "\n",
    "plt.show()\n"
   ]
  },
  {
   "cell_type": "code",
   "execution_count": null,
   "metadata": {},
   "outputs": [],
   "source": [
    "%matplotlib inline\n",
    "top_five_artists = df_limpio.groupby(\"track_artist\").count().sort_values(by=\"track_popularity\", ascending=False)[\"track_popularity\"][:11]\n",
    "top_five_artists = top_five_artists.reset_index()\n",
    "\n",
    "df_top_five = df_limpio[df_limpio['track_artist'].isin(top_five_artists['track_artist'])]\n",
    "\n",
    "plt.figure(figsize=(20, 10))\n",
    "scatter_plot = sns.scatterplot(data=df_top_five, x='track_artist', y='track_popularity', hue='playlist_genre', s=75, palette='BuGn_r')\n",
    "\n",
    "# Eliminar cuadrícula y ejes espinales\n",
    "sns.despine(left=True, bottom=True)\n",
    "\n",
    "plt.xlabel('Artista')\n",
    "plt.ylabel('Canciones')\n",
    "plt.title('Popularidad de cada canción de los diez artistas más populares')\n",
    "plt.legend(title='Canción', bbox_to_anchor=(1.01, 1), loc='upper left', markerscale=0.8)\n",
    "\n",
    "plt.show()\n"
   ]
  },
  {
   "cell_type": "code",
   "execution_count": null,
   "metadata": {},
   "outputs": [],
   "source": [
    "plt.figure(figsize=(12, 8))\n",
    "scatter_plot = sns.scatterplot(data=df_general, x='track_id', y='track_popularity', hue='playlist_genre', alpha=0.7)\n",
    "plt.xlabel('Track ID')\n",
    "plt.ylabel('Track Popularity')\n",
    "plt.title('Relación entre Track ID, Popularidad y Género')\n",
    "scatter_plot.legend(title='Género', bbox_to_anchor=(1.05, 1), loc='upper left')\n",
    "\n"
   ]
  },
  {
   "cell_type": "code",
   "execution_count": null,
   "metadata": {},
   "outputs": [],
   "source": [
    "\n",
    "conteo_anual = df_general['release_month'].value_counts().sort_index()\n",
    "\n",
    "plt.figure(figsize=(12, 8));\n",
    "barplot = sns.barplot(data=df_general, x='release_month', y='track_popularity', hue='playlist_genre', errorbar= None), ;\n",
    "plt.gca().xaxis.grid(False)\n",
    "plt.gca().yaxis.grid(False)\n",
    "plt.xticks(range(1, 13)) \n",
    "plt.xlabel('Fecha de Lanzamiento del Álbum')\n",
    "plt.ylabel('Popularidad del Artista')\n",
    "plt.title('Relación entre Popularidad del artista y mes de lanzamiento de la canción')\n",
    "\n",
    "barplot.legend(title='Género', bbox_to_anchor=(1, 1), loc='upper left');\n",
    "\n"
   ]
  },
  {
   "cell_type": "code",
   "execution_count": null,
   "metadata": {},
   "outputs": [],
   "source": [
    "sns.set(style='dark', palette='viridis')\n",
    "columnas_analisis = ['track_popularity', 'danceability', 'energy', 'loudness', 'valence', 'tempo', 'playlist_genre']\n",
    "scatter_matrix = sns.pairplot(df_general[columnas_analisis], hue='playlist_genre', markers='o', diag_kind='kde')\n",
    "plt.suptitle('Matriz de Dispersión para Análisis Multivariante por Género', y=1.02, color='white');\n",
    "\n",
    "\n"
   ]
  },
  {
   "cell_type": "code",
   "execution_count": null,
   "metadata": {},
   "outputs": [],
   "source": [
    "columnas_numericas = ['track_popularity', 'danceability', 'energy', 'key', 'loudness', 'mode', 'instrumentalness', 'tempo', 'duration_s']\n"
   ]
  },
  {
   "cell_type": "code",
   "execution_count": null,
   "metadata": {},
   "outputs": [],
   "source": [
    "resultados_agrupados = df_limpio.groupby('playlist_genre').count()\n",
    "\n",
    "resultados_agrupados.reset_index(inplace=True)\n",
    "resultados_agrupados\n",
    "\n"
   ]
  },
  {
   "cell_type": "code",
   "execution_count": null,
   "metadata": {},
   "outputs": [],
   "source": [
    "diccionario_generos = {edm: 0, 1: 'latin', 2: 'pop', 3: 'r&b', 4: 'rap', 5: 'rock'}\n"
   ]
  },
  {
   "cell_type": "code",
   "execution_count": null,
   "metadata": {},
   "outputs": [],
   "source": [
    "diccionario_generos_invertido = {v.lower(): k for k, v in diccionario_generos.items()}\n",
    "diccionario_generos_invertido\n"
   ]
  },
  {
   "cell_type": "code",
   "execution_count": null,
   "metadata": {},
   "outputs": [],
   "source": [
    "def conversor():\n",
    "    for i in playlist_genre:\n",
    "        if i == 'pop':\n",
    "            playlist_genre_index == 2\n",
    "            playlist_genre_index.append()\n",
    "            \n"
   ]
  },
  {
   "cell_type": "code",
   "execution_count": null,
   "metadata": {},
   "outputs": [],
   "source": [
    "def conversor(playlist_genre):\n",
    "    playlist_genre_index = []\n",
    "\n",
    "    for i in playlist_genre:\n",
    "        if i.lower() == 'pop':\n",
    "            playlist_genre_index.append(2)\n",
    "        elif i.lower() == 'edm':\n",
    "            playlist_genre_index.append(0)\n",
    "        elif i.lower(e)\n",
    "        else:\n",
    "            # Si no coincide con ningún género, puedes manejarlo de alguna manera (por ejemplo, añadir un valor predeterminado)\n",
    "            playlist_genre_index.append(None)"
   ]
  },
  {
   "cell_type": "code",
   "execution_count": null,
   "metadata": {},
   "outputs": [],
   "source": [
    "def conversor(playlist_genre):\n",
    "    playlist_genre_index = []\n",
    "\n",
    "    for i in playlist_genre:\n",
    "        if i.lower() == 'pop':\n",
    "            playlist_genre_index.append(2)\n",
    "        elif i.lower() == 'edm':\n",
    "            playlist_genre_index.append(0)\n",
    "        elif i.lower() == 'latin':\n",
    "            playlist_genre_index.append(1)\n",
    "        elif i.lower() == 'r&b':\n",
    "            playlist_genre_index.append(3)\n",
    "        elif i.lower() == 'rap':\n",
    "            playlist_genre_index.append(4)\n",
    "        elif i.lower() == 'rock':\n",
    "            playlist_genre_index.append(5)\n",
    "        else:\n",
    "            # Si no coincide con ningún género, puedes manejarlo de alguna manera (por ejemplo, añadir un valor predeterminado)\n",
    "            playlist_genre_index.append(None)\n",
    "\n",
    "    return playlist_genre_index\n",
    "\n",
    "# Llamada a la función\n",
    "df_limpio['playlist_genre_index'] = conversor(df_limpio['playlist_genre'])\n",
    "\n",
    "# Mostrar los resultados\n",
    "print(df_limpio[['playlist_genre', 'playlist_genre_index']])\n"
   ]
  },
  {
   "cell_type": "code",
   "execution_count": null,
   "metadata": {},
   "outputs": [],
   "source": [
    "df_limpio['playlist_genre_index'].dtypes"
   ]
  },
  {
   "cell_type": "code",
   "execution_count": null,
   "metadata": {},
   "outputs": [],
   "source": [
    "import pandas as pd\n",
    "import seaborn as sns\n",
    "import matplotlib.pyplot as plt\n",
    "\n",
    "# Ejemplo de DataFrame\n",
    "data_art = pd.DataFrame({\n",
    "    'Variable1': [10, 15, 20, 25, 30],\n",
    "    'Variable2': [5, 8, 12, 18, 22],\n",
    "    'Variable3': [8, 10, 15, 20, 25]\n",
    "})\n",
    "\n",
    "# Gráfico de dispersión\n",
    "sns.scatterplot(x='Variable1', y='Variable2', data=data_art, hue='Variable3', palette='viridis')\n",
    "plt.title('Gráfico de dispersión con colores representando Variable3')\n",
    "plt.xlabel('Variable1')\n",
    "plt.ylabel('Variable2')\n",
    "plt.show()"
   ]
  },
  {
   "cell_type": "code",
   "execution_count": null,
   "metadata": {},
   "outputs": [],
   "source": [
    "import matplotlib.pyplot as plt\n",
    "import numpy as np\n",
    "\n",
    "# Datos de ejemplo\n",
    "categorias = ['A', 'B', 'C', 'D', 'E']\n",
    "valores = [4, 7, 1, 8, 5]\n",
    "\n",
    "# Estilo artístico\n",
    "colores = plt.cm.viridis(np.linspace(0, 1, len(categorias)))\n",
    "estilo = 'seaborn-darkgrid'\n",
    "\n",
    "# Crear el gráfico de barras\n",
    "with plt.style.context(estilo):\n",
    "    plt.figure(figsize=(8, 6))\n",
    "    plt.bar(categorias, valores, color=colores)\n",
    "    plt.title('Gráfico de Barras Estilizado')\n",
    "    plt.xlabel('Categorías')\n",
    "    plt.ylabel('Valores')\n",
    "    plt.show()\n",
    "\n"
   ]
  },
  {
   "cell_type": "markdown",
   "metadata": {},
   "source": [
    "## Contraste de hipotesis"
   ]
  },
  {
   "cell_type": "markdown",
   "metadata": {},
   "source": [
    "Contraste de Medias:\n",
    "\n",
    "Hipótesis Nula, H0:  La media de la popularidad de las canciones en dos géneros de playlist específicos es la misma.\n",
    "Hipótesis Alternativa, h1: La media de la popularidad de las canciones en dos géneros de playlist específicos es diferente."
   ]
  },
  {
   "cell_type": "code",
   "execution_count": null,
   "metadata": {},
   "outputs": [],
   "source": [
    "from scipy.stats import ttest_ind\n",
    "\n",
    "# Suponiendo que: ditrib normal y varianzas no iguales\n",
    "\n",
    "playlist_genre_pop = df_general[df_general['playlist_genre'] == 'pop']['track_popularity']\n",
    "playlist_genre_edm = df_general[df_general['playlist_genre'] == 'edm']['track_popularity']\n",
    "\n",
    "t_statistic, p_value = ttest_ind(playlist_genre_pop, playlist_genre_edm, equal_var=False)\n",
    "alpha = 0.05\n",
    "\n",
    "print(f'Test Statistic: {t_statistic}')\n",
    "print(f'P-value: {p_value}')\n",
    "\n",
    "# Tomar la decisión basada en el p-value\n",
    "if p_value < alpha:\n",
    "    print('Rechazamos la hipótesis nula. Hay evidencia suficiente para concluir que las medias son diferentes.')\n",
    "else:\n",
    "    print('No hay suficiente evidencia para rechazar la hipótesis nula. No hay diferencia significativa en las medias.')\n"
   ]
  },
  {
   "cell_type": "code",
   "execution_count": null,
   "metadata": {},
   "outputs": [],
   "source": [
    "from scipy.stats import proportions_ttest\n",
    "\n",
    "# Suponiendo que tienes dos conjuntos de datos para los dos géneros de playlist\n",
    "playlist_edm_bailable = df_general[df_general['playlist_genre'] == 'edm']['danceability']\n",
    "playlist_latin_bailable = df_general[df_general['playlist_genre'] == 'latin']['danceability']\n",
    "count_genre1_bailable = (playlist_edm_bailable > umbral).sum()\n",
    "count_genre2_bailable = (playlist_latin_bailable > umbral).sum()\n",
    "nobs_genre1 = len(playlist_edm_bailable)\n",
    "nobs_genre2 = len(playlist_latin_bailable)\n",
    "stat, p_value = proportions_ztest([count_genre1_bailable, count_genre2_bailable], [nobs_genre1, nobs_genre2], alternative='two-sided')\n",
    "alpha = 0.05\n",
    "\n",
    "print(f'Test Statistic: {stat}')\n",
    "print(f'P-value: {p_value}')\n",
    "if p_value < alpha:\n",
    "    print('Rechazamos la hipótesis nula. Hay evidencia suficiente para concluir que las proporciones son diferentes.')\n",
    "else:\n",
    "    print('No hay suficiente evidencia para rechazar la hipótesis nula. No hay diferencia significativa en las proporciones.')\n"
   ]
  },
  {
   "cell_type": "code",
   "execution_count": 1,
   "metadata": {},
   "outputs": [
    {
     "ename": "SyntaxError",
     "evalue": "invalid syntax (365015446.py, line 1)",
     "output_type": "error",
     "traceback": [
      "\u001b[1;36m  Cell \u001b[1;32mIn[1], line 1\u001b[1;36m\u001b[0m\n\u001b[1;33m    Hipótesis Nula, H0: La proporción de canciones bailables (alta danceability) en un género de playlist es igual a la proporción en otro género.\u001b[0m\n\u001b[1;37m              ^\u001b[0m\n\u001b[1;31mSyntaxError\u001b[0m\u001b[1;31m:\u001b[0m invalid syntax\n"
     ]
    }
   ],
   "source": [
    "\n",
    "Hipótesis Nula, H0: La proporción de canciones bailables (alta danceability) en un género de playlist es igual a la proporción en otro género.\n",
    "Hipótesis Alternativa, H1: La proporción de canciones bailables en un género de playlist es diferente a la proporción en otro género.\n",
    "\n",
    "\n",
    "\n",
    "\n",
    "\n",
    "\n",
    "\n",
    "\n"
   ]
  },
  {
   "cell_type": "code",
   "execution_count": null,
   "metadata": {},
   "outputs": [],
   "source": [
    "from scipy.stats import kruskal\n",
    "\n",
    "# Prueba de Kruskal-Wallis para más de dos muestras independientes\n",
    "stat_kw, p_value_kw = kruskal(df_general['track_popularity'][df_general['playlist_genre'] == 'r&b'],\n",
    "                               df_general['track_popularity'][df_general['playlist_genre'] == 'latin'],\n",
    "                               df_general['track_popularity'][df_general['playlist_genre'] == 'edm'],\n",
    "                               df_general['track_popularity'][df_general['playlist_genre'] == 'rap'],\n",
    "                               df_general['track_popularity'][df_general['playlist_genre'] == 'pop'],\n",
    "                               df_general['track_popularity'][df_general['playlist_genre'] == 'rock']\n",
    "                               )\n",
    "\n",
    "\n",
    "print(f\"\\nPrueba de Kruskal-Wallis para más de dos muestras independientes: stat = {stat_kw}, p_value = {p_value_kw}\")\n",
    "alpha=0.05\n",
    "if p_value_kw < alpha:\n",
    "    print(\"Rechazamos la hipótesis nula. Hay evidencia de al menos una diferencia significativa en la popularidad de los 5 géneros top.\")\n",
    "else:\n",
    "    print(\"No hay suficiente evidencia para rechazar la hipótesis nula. No hay diferencia significativa en la popularidad de los 5 géneros top.\")\n",
    "\n"
   ]
  }
 ],
 "metadata": {
  "kernelspec": {
   "display_name": ".venv",
   "language": "python",
   "name": "python3"
  },
  "language_info": {
   "codemirror_mode": {
    "name": "ipython",
    "version": 3
   },
   "file_extension": ".py",
   "mimetype": "text/x-python",
   "name": "python",
   "nbconvert_exporter": "python",
   "pygments_lexer": "ipython3",
   "version": "3.11.6"
  }
 },
 "nbformat": 4,
 "nbformat_minor": 2
}
